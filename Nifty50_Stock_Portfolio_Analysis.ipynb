{
  "nbformat": 4,
  "nbformat_minor": 0,
  "metadata": {
    "colab": {
      "provenance": []
    },
    "kernelspec": {
      "name": "python3",
      "display_name": "Python 3"
    },
    "language_info": {
      "name": "python"
    }
  },
  "cells": [
    {
      "cell_type": "markdown",
      "source": [
        "Here we will analyze the Nifty50 stock data for last 10 years.\n",
        "\n",
        "1. First we will perform descriptive analysis of the stocks based on various metrics and find the top stocks\n",
        "2. Next we will perform predictive analysis by creating a portfolio of stocks using Modern Portfolio Theory\n"
      ],
      "metadata": {
        "id": "JovBiU7eB6hk"
      }
    },
    {
      "cell_type": "code",
      "execution_count": null,
      "metadata": {
        "id": "QzKZieQIHX5M"
      },
      "outputs": [],
      "source": [
        "import numpy as np\n",
        "import pandas as pd\n",
        "import matplotlib.pyplot as plt\n",
        "import seaborn as sns"
      ]
    },
    {
      "cell_type": "markdown",
      "source": [
        "Basic analysis of top stocks"
      ],
      "metadata": {
        "id": "n_ZZsu7lxGeX"
      }
    },
    {
      "cell_type": "code",
      "source": [
        "nifty50 = pd.read_csv('/content/NIFTY50_all.csv')\n",
        "nifty50.head()"
      ],
      "metadata": {
        "id": "EHxMwJT-rhaH",
        "colab": {
          "base_uri": "https://localhost:8080/",
          "height": 330
        },
        "outputId": "23cd98d9-b383-45b3-88b3-5c2f5eec5d62"
      },
      "execution_count": null,
      "outputs": [
        {
          "output_type": "execute_result",
          "data": {
            "text/plain": [
              "         Date      Symbol Series  Prev Close    Open     High    Low   Last  \\\n",
              "0  2007-11-27  MUNDRAPORT     EQ      440.00  770.00  1050.00  770.0  959.0   \n",
              "1  2007-11-28  MUNDRAPORT     EQ      962.90  984.00   990.00  874.0  885.0   \n",
              "2  2007-11-29  MUNDRAPORT     EQ      893.90  909.00   914.75  841.0  887.0   \n",
              "3  2007-11-30  MUNDRAPORT     EQ      884.20  890.00   958.00  890.0  929.0   \n",
              "4  2007-12-03  MUNDRAPORT     EQ      921.55  939.75   995.00  922.0  980.0   \n",
              "\n",
              "    Close    VWAP    Volume      Turnover  Trades  Deliverable Volume  \\\n",
              "0  962.90  984.72  27294366  2.687719e+15     NaN           9859619.0   \n",
              "1  893.90  941.38   4581338  4.312765e+14     NaN           1453278.0   \n",
              "2  884.20  888.09   5124121  4.550658e+14     NaN           1069678.0   \n",
              "3  921.55  929.17   4609762  4.283257e+14     NaN           1260913.0   \n",
              "4  969.30  965.65   2977470  2.875200e+14     NaN            816123.0   \n",
              "\n",
              "   %Deliverble  \n",
              "0       0.3612  \n",
              "1       0.3172  \n",
              "2       0.2088  \n",
              "3       0.2735  \n",
              "4       0.2741  "
            ],
            "text/html": [
              "\n",
              "  <div id=\"df-57878f6a-c523-4cdf-a528-340d2eeba441\" class=\"colab-df-container\">\n",
              "    <div>\n",
              "<style scoped>\n",
              "    .dataframe tbody tr th:only-of-type {\n",
              "        vertical-align: middle;\n",
              "    }\n",
              "\n",
              "    .dataframe tbody tr th {\n",
              "        vertical-align: top;\n",
              "    }\n",
              "\n",
              "    .dataframe thead th {\n",
              "        text-align: right;\n",
              "    }\n",
              "</style>\n",
              "<table border=\"1\" class=\"dataframe\">\n",
              "  <thead>\n",
              "    <tr style=\"text-align: right;\">\n",
              "      <th></th>\n",
              "      <th>Date</th>\n",
              "      <th>Symbol</th>\n",
              "      <th>Series</th>\n",
              "      <th>Prev Close</th>\n",
              "      <th>Open</th>\n",
              "      <th>High</th>\n",
              "      <th>Low</th>\n",
              "      <th>Last</th>\n",
              "      <th>Close</th>\n",
              "      <th>VWAP</th>\n",
              "      <th>Volume</th>\n",
              "      <th>Turnover</th>\n",
              "      <th>Trades</th>\n",
              "      <th>Deliverable Volume</th>\n",
              "      <th>%Deliverble</th>\n",
              "    </tr>\n",
              "  </thead>\n",
              "  <tbody>\n",
              "    <tr>\n",
              "      <th>0</th>\n",
              "      <td>2007-11-27</td>\n",
              "      <td>MUNDRAPORT</td>\n",
              "      <td>EQ</td>\n",
              "      <td>440.00</td>\n",
              "      <td>770.00</td>\n",
              "      <td>1050.00</td>\n",
              "      <td>770.0</td>\n",
              "      <td>959.0</td>\n",
              "      <td>962.90</td>\n",
              "      <td>984.72</td>\n",
              "      <td>27294366</td>\n",
              "      <td>2.687719e+15</td>\n",
              "      <td>NaN</td>\n",
              "      <td>9859619.0</td>\n",
              "      <td>0.3612</td>\n",
              "    </tr>\n",
              "    <tr>\n",
              "      <th>1</th>\n",
              "      <td>2007-11-28</td>\n",
              "      <td>MUNDRAPORT</td>\n",
              "      <td>EQ</td>\n",
              "      <td>962.90</td>\n",
              "      <td>984.00</td>\n",
              "      <td>990.00</td>\n",
              "      <td>874.0</td>\n",
              "      <td>885.0</td>\n",
              "      <td>893.90</td>\n",
              "      <td>941.38</td>\n",
              "      <td>4581338</td>\n",
              "      <td>4.312765e+14</td>\n",
              "      <td>NaN</td>\n",
              "      <td>1453278.0</td>\n",
              "      <td>0.3172</td>\n",
              "    </tr>\n",
              "    <tr>\n",
              "      <th>2</th>\n",
              "      <td>2007-11-29</td>\n",
              "      <td>MUNDRAPORT</td>\n",
              "      <td>EQ</td>\n",
              "      <td>893.90</td>\n",
              "      <td>909.00</td>\n",
              "      <td>914.75</td>\n",
              "      <td>841.0</td>\n",
              "      <td>887.0</td>\n",
              "      <td>884.20</td>\n",
              "      <td>888.09</td>\n",
              "      <td>5124121</td>\n",
              "      <td>4.550658e+14</td>\n",
              "      <td>NaN</td>\n",
              "      <td>1069678.0</td>\n",
              "      <td>0.2088</td>\n",
              "    </tr>\n",
              "    <tr>\n",
              "      <th>3</th>\n",
              "      <td>2007-11-30</td>\n",
              "      <td>MUNDRAPORT</td>\n",
              "      <td>EQ</td>\n",
              "      <td>884.20</td>\n",
              "      <td>890.00</td>\n",
              "      <td>958.00</td>\n",
              "      <td>890.0</td>\n",
              "      <td>929.0</td>\n",
              "      <td>921.55</td>\n",
              "      <td>929.17</td>\n",
              "      <td>4609762</td>\n",
              "      <td>4.283257e+14</td>\n",
              "      <td>NaN</td>\n",
              "      <td>1260913.0</td>\n",
              "      <td>0.2735</td>\n",
              "    </tr>\n",
              "    <tr>\n",
              "      <th>4</th>\n",
              "      <td>2007-12-03</td>\n",
              "      <td>MUNDRAPORT</td>\n",
              "      <td>EQ</td>\n",
              "      <td>921.55</td>\n",
              "      <td>939.75</td>\n",
              "      <td>995.00</td>\n",
              "      <td>922.0</td>\n",
              "      <td>980.0</td>\n",
              "      <td>969.30</td>\n",
              "      <td>965.65</td>\n",
              "      <td>2977470</td>\n",
              "      <td>2.875200e+14</td>\n",
              "      <td>NaN</td>\n",
              "      <td>816123.0</td>\n",
              "      <td>0.2741</td>\n",
              "    </tr>\n",
              "  </tbody>\n",
              "</table>\n",
              "</div>\n",
              "    <div class=\"colab-df-buttons\">\n",
              "\n",
              "  <div class=\"colab-df-container\">\n",
              "    <button class=\"colab-df-convert\" onclick=\"convertToInteractive('df-57878f6a-c523-4cdf-a528-340d2eeba441')\"\n",
              "            title=\"Convert this dataframe to an interactive table.\"\n",
              "            style=\"display:none;\">\n",
              "\n",
              "  <svg xmlns=\"http://www.w3.org/2000/svg\" height=\"24px\" viewBox=\"0 -960 960 960\">\n",
              "    <path d=\"M120-120v-720h720v720H120Zm60-500h600v-160H180v160Zm220 220h160v-160H400v160Zm0 220h160v-160H400v160ZM180-400h160v-160H180v160Zm440 0h160v-160H620v160ZM180-180h160v-160H180v160Zm440 0h160v-160H620v160Z\"/>\n",
              "  </svg>\n",
              "    </button>\n",
              "\n",
              "  <style>\n",
              "    .colab-df-container {\n",
              "      display:flex;\n",
              "      gap: 12px;\n",
              "    }\n",
              "\n",
              "    .colab-df-convert {\n",
              "      background-color: #E8F0FE;\n",
              "      border: none;\n",
              "      border-radius: 50%;\n",
              "      cursor: pointer;\n",
              "      display: none;\n",
              "      fill: #1967D2;\n",
              "      height: 32px;\n",
              "      padding: 0 0 0 0;\n",
              "      width: 32px;\n",
              "    }\n",
              "\n",
              "    .colab-df-convert:hover {\n",
              "      background-color: #E2EBFA;\n",
              "      box-shadow: 0px 1px 2px rgba(60, 64, 67, 0.3), 0px 1px 3px 1px rgba(60, 64, 67, 0.15);\n",
              "      fill: #174EA6;\n",
              "    }\n",
              "\n",
              "    .colab-df-buttons div {\n",
              "      margin-bottom: 4px;\n",
              "    }\n",
              "\n",
              "    [theme=dark] .colab-df-convert {\n",
              "      background-color: #3B4455;\n",
              "      fill: #D2E3FC;\n",
              "    }\n",
              "\n",
              "    [theme=dark] .colab-df-convert:hover {\n",
              "      background-color: #434B5C;\n",
              "      box-shadow: 0px 1px 3px 1px rgba(0, 0, 0, 0.15);\n",
              "      filter: drop-shadow(0px 1px 2px rgba(0, 0, 0, 0.3));\n",
              "      fill: #FFFFFF;\n",
              "    }\n",
              "  </style>\n",
              "\n",
              "    <script>\n",
              "      const buttonEl =\n",
              "        document.querySelector('#df-57878f6a-c523-4cdf-a528-340d2eeba441 button.colab-df-convert');\n",
              "      buttonEl.style.display =\n",
              "        google.colab.kernel.accessAllowed ? 'block' : 'none';\n",
              "\n",
              "      async function convertToInteractive(key) {\n",
              "        const element = document.querySelector('#df-57878f6a-c523-4cdf-a528-340d2eeba441');\n",
              "        const dataTable =\n",
              "          await google.colab.kernel.invokeFunction('convertToInteractive',\n",
              "                                                    [key], {});\n",
              "        if (!dataTable) return;\n",
              "\n",
              "        const docLinkHtml = 'Like what you see? Visit the ' +\n",
              "          '<a target=\"_blank\" href=https://colab.research.google.com/notebooks/data_table.ipynb>data table notebook</a>'\n",
              "          + ' to learn more about interactive tables.';\n",
              "        element.innerHTML = '';\n",
              "        dataTable['output_type'] = 'display_data';\n",
              "        await google.colab.output.renderOutput(dataTable, element);\n",
              "        const docLink = document.createElement('div');\n",
              "        docLink.innerHTML = docLinkHtml;\n",
              "        element.appendChild(docLink);\n",
              "      }\n",
              "    </script>\n",
              "  </div>\n",
              "\n",
              "\n",
              "<div id=\"df-645cabce-6464-4edd-8fdb-b4f161b1cec9\">\n",
              "  <button class=\"colab-df-quickchart\" onclick=\"quickchart('df-645cabce-6464-4edd-8fdb-b4f161b1cec9')\"\n",
              "            title=\"Suggest charts\"\n",
              "            style=\"display:none;\">\n",
              "\n",
              "<svg xmlns=\"http://www.w3.org/2000/svg\" height=\"24px\"viewBox=\"0 0 24 24\"\n",
              "     width=\"24px\">\n",
              "    <g>\n",
              "        <path d=\"M19 3H5c-1.1 0-2 .9-2 2v14c0 1.1.9 2 2 2h14c1.1 0 2-.9 2-2V5c0-1.1-.9-2-2-2zM9 17H7v-7h2v7zm4 0h-2V7h2v10zm4 0h-2v-4h2v4z\"/>\n",
              "    </g>\n",
              "</svg>\n",
              "  </button>\n",
              "\n",
              "<style>\n",
              "  .colab-df-quickchart {\n",
              "      --bg-color: #E8F0FE;\n",
              "      --fill-color: #1967D2;\n",
              "      --hover-bg-color: #E2EBFA;\n",
              "      --hover-fill-color: #174EA6;\n",
              "      --disabled-fill-color: #AAA;\n",
              "      --disabled-bg-color: #DDD;\n",
              "  }\n",
              "\n",
              "  [theme=dark] .colab-df-quickchart {\n",
              "      --bg-color: #3B4455;\n",
              "      --fill-color: #D2E3FC;\n",
              "      --hover-bg-color: #434B5C;\n",
              "      --hover-fill-color: #FFFFFF;\n",
              "      --disabled-bg-color: #3B4455;\n",
              "      --disabled-fill-color: #666;\n",
              "  }\n",
              "\n",
              "  .colab-df-quickchart {\n",
              "    background-color: var(--bg-color);\n",
              "    border: none;\n",
              "    border-radius: 50%;\n",
              "    cursor: pointer;\n",
              "    display: none;\n",
              "    fill: var(--fill-color);\n",
              "    height: 32px;\n",
              "    padding: 0;\n",
              "    width: 32px;\n",
              "  }\n",
              "\n",
              "  .colab-df-quickchart:hover {\n",
              "    background-color: var(--hover-bg-color);\n",
              "    box-shadow: 0 1px 2px rgba(60, 64, 67, 0.3), 0 1px 3px 1px rgba(60, 64, 67, 0.15);\n",
              "    fill: var(--button-hover-fill-color);\n",
              "  }\n",
              "\n",
              "  .colab-df-quickchart-complete:disabled,\n",
              "  .colab-df-quickchart-complete:disabled:hover {\n",
              "    background-color: var(--disabled-bg-color);\n",
              "    fill: var(--disabled-fill-color);\n",
              "    box-shadow: none;\n",
              "  }\n",
              "\n",
              "  .colab-df-spinner {\n",
              "    border: 2px solid var(--fill-color);\n",
              "    border-color: transparent;\n",
              "    border-bottom-color: var(--fill-color);\n",
              "    animation:\n",
              "      spin 1s steps(1) infinite;\n",
              "  }\n",
              "\n",
              "  @keyframes spin {\n",
              "    0% {\n",
              "      border-color: transparent;\n",
              "      border-bottom-color: var(--fill-color);\n",
              "      border-left-color: var(--fill-color);\n",
              "    }\n",
              "    20% {\n",
              "      border-color: transparent;\n",
              "      border-left-color: var(--fill-color);\n",
              "      border-top-color: var(--fill-color);\n",
              "    }\n",
              "    30% {\n",
              "      border-color: transparent;\n",
              "      border-left-color: var(--fill-color);\n",
              "      border-top-color: var(--fill-color);\n",
              "      border-right-color: var(--fill-color);\n",
              "    }\n",
              "    40% {\n",
              "      border-color: transparent;\n",
              "      border-right-color: var(--fill-color);\n",
              "      border-top-color: var(--fill-color);\n",
              "    }\n",
              "    60% {\n",
              "      border-color: transparent;\n",
              "      border-right-color: var(--fill-color);\n",
              "    }\n",
              "    80% {\n",
              "      border-color: transparent;\n",
              "      border-right-color: var(--fill-color);\n",
              "      border-bottom-color: var(--fill-color);\n",
              "    }\n",
              "    90% {\n",
              "      border-color: transparent;\n",
              "      border-bottom-color: var(--fill-color);\n",
              "    }\n",
              "  }\n",
              "</style>\n",
              "\n",
              "  <script>\n",
              "    async function quickchart(key) {\n",
              "      const quickchartButtonEl =\n",
              "        document.querySelector('#' + key + ' button');\n",
              "      quickchartButtonEl.disabled = true;  // To prevent multiple clicks.\n",
              "      quickchartButtonEl.classList.add('colab-df-spinner');\n",
              "      try {\n",
              "        const charts = await google.colab.kernel.invokeFunction(\n",
              "            'suggestCharts', [key], {});\n",
              "      } catch (error) {\n",
              "        console.error('Error during call to suggestCharts:', error);\n",
              "      }\n",
              "      quickchartButtonEl.classList.remove('colab-df-spinner');\n",
              "      quickchartButtonEl.classList.add('colab-df-quickchart-complete');\n",
              "    }\n",
              "    (() => {\n",
              "      let quickchartButtonEl =\n",
              "        document.querySelector('#df-645cabce-6464-4edd-8fdb-b4f161b1cec9 button');\n",
              "      quickchartButtonEl.style.display =\n",
              "        google.colab.kernel.accessAllowed ? 'block' : 'none';\n",
              "    })();\n",
              "  </script>\n",
              "</div>\n",
              "\n",
              "    </div>\n",
              "  </div>\n"
            ],
            "application/vnd.google.colaboratory.intrinsic+json": {
              "type": "dataframe",
              "variable_name": "nifty50"
            }
          },
          "metadata": {},
          "execution_count": 37
        }
      ]
    },
    {
      "cell_type": "code",
      "source": [
        "nifty50.info()"
      ],
      "metadata": {
        "colab": {
          "base_uri": "https://localhost:8080/"
        },
        "id": "-jAQBbfMxgBD",
        "outputId": "9e7b7dc1-7f52-43ab-b815-7dc58f2705f3"
      },
      "execution_count": null,
      "outputs": [
        {
          "output_type": "stream",
          "name": "stdout",
          "text": [
            "<class 'pandas.core.frame.DataFrame'>\n",
            "RangeIndex: 235192 entries, 0 to 235191\n",
            "Data columns (total 15 columns):\n",
            " #   Column              Non-Null Count   Dtype  \n",
            "---  ------              --------------   -----  \n",
            " 0   Date                235192 non-null  object \n",
            " 1   Symbol              235192 non-null  object \n",
            " 2   Series              235192 non-null  object \n",
            " 3   Prev Close          235192 non-null  float64\n",
            " 4   Open                235192 non-null  float64\n",
            " 5   High                235192 non-null  float64\n",
            " 6   Low                 235192 non-null  float64\n",
            " 7   Last                235192 non-null  float64\n",
            " 8   Close               235192 non-null  float64\n",
            " 9   VWAP                235192 non-null  float64\n",
            " 10  Volume              235192 non-null  int64  \n",
            " 11  Turnover            235192 non-null  float64\n",
            " 12  Trades              120344 non-null  float64\n",
            " 13  Deliverable Volume  219115 non-null  float64\n",
            " 14  %Deliverble         219115 non-null  float64\n",
            "dtypes: float64(11), int64(1), object(3)\n",
            "memory usage: 26.9+ MB\n"
          ]
        }
      ]
    },
    {
      "cell_type": "code",
      "source": [
        "nifty50['Date'] = pd.to_datetime(nifty50['Date'])"
      ],
      "metadata": {
        "id": "3y4jUhDqv7f_"
      },
      "execution_count": null,
      "outputs": []
    },
    {
      "cell_type": "markdown",
      "source": [
        "\n",
        "Lets pick those stocks which are available for at least 4000 days"
      ],
      "metadata": {
        "id": "m12zv9N-A7V2"
      }
    },
    {
      "cell_type": "code",
      "source": [
        "df_4000 = nifty50.groupby('Symbol').filter(lambda x: len(x) >= 4000)"
      ],
      "metadata": {
        "id": "bGGCTK2yxf-v"
      },
      "execution_count": null,
      "outputs": []
    },
    {
      "cell_type": "code",
      "source": [
        "df_4000.shape"
      ],
      "metadata": {
        "colab": {
          "base_uri": "https://localhost:8080/"
        },
        "id": "WEAztMFR0yHI",
        "outputId": "14d3abf9-07bf-4d54-ca20-2346a3e3b5d9"
      },
      "execution_count": null,
      "outputs": [
        {
          "output_type": "execute_result",
          "data": {
            "text/plain": [
              "(150831, 15)"
            ]
          },
          "metadata": {},
          "execution_count": 41
        }
      ]
    },
    {
      "cell_type": "code",
      "source": [
        "df_group_volume = df_4000.groupby('Symbol')['Volume'].mean()"
      ],
      "metadata": {
        "id": "MeJ4V8Hg07SB"
      },
      "execution_count": null,
      "outputs": []
    },
    {
      "cell_type": "markdown",
      "source": [
        "Finding Top 5 Stocks based on average Volume traded"
      ],
      "metadata": {
        "id": "QnFxOMFabAvd"
      }
    },
    {
      "cell_type": "code",
      "source": [
        "top5_by_vol = df_group_volume.sort_values(ascending=False).head(5)\n",
        "top5_by_vol"
      ],
      "metadata": {
        "colab": {
          "base_uri": "https://localhost:8080/",
          "height": 272
        },
        "id": "vi0gz2S9xf75",
        "outputId": "10fc5359-e477-4a7f-8f62-5e7d31339599"
      },
      "execution_count": null,
      "outputs": [
        {
          "output_type": "execute_result",
          "data": {
            "text/plain": [
              "Symbol\n",
              "TATAMOTORS    1.247240e+07\n",
              "SBIN          1.003930e+07\n",
              "ICICIBANK     8.224631e+06\n",
              "NTPC          7.226587e+06\n",
              "ITC           7.173165e+06\n",
              "Name: Volume, dtype: float64"
            ],
            "text/html": [
              "<div>\n",
              "<style scoped>\n",
              "    .dataframe tbody tr th:only-of-type {\n",
              "        vertical-align: middle;\n",
              "    }\n",
              "\n",
              "    .dataframe tbody tr th {\n",
              "        vertical-align: top;\n",
              "    }\n",
              "\n",
              "    .dataframe thead th {\n",
              "        text-align: right;\n",
              "    }\n",
              "</style>\n",
              "<table border=\"1\" class=\"dataframe\">\n",
              "  <thead>\n",
              "    <tr style=\"text-align: right;\">\n",
              "      <th></th>\n",
              "      <th>Volume</th>\n",
              "    </tr>\n",
              "    <tr>\n",
              "      <th>Symbol</th>\n",
              "      <th></th>\n",
              "    </tr>\n",
              "  </thead>\n",
              "  <tbody>\n",
              "    <tr>\n",
              "      <th>TATAMOTORS</th>\n",
              "      <td>1.247240e+07</td>\n",
              "    </tr>\n",
              "    <tr>\n",
              "      <th>SBIN</th>\n",
              "      <td>1.003930e+07</td>\n",
              "    </tr>\n",
              "    <tr>\n",
              "      <th>ICICIBANK</th>\n",
              "      <td>8.224631e+06</td>\n",
              "    </tr>\n",
              "    <tr>\n",
              "      <th>NTPC</th>\n",
              "      <td>7.226587e+06</td>\n",
              "    </tr>\n",
              "    <tr>\n",
              "      <th>ITC</th>\n",
              "      <td>7.173165e+06</td>\n",
              "    </tr>\n",
              "  </tbody>\n",
              "</table>\n",
              "</div><br><label><b>dtype:</b> float64</label>"
            ]
          },
          "metadata": {},
          "execution_count": 43
        }
      ]
    },
    {
      "cell_type": "code",
      "source": [
        "# visualize the top 5 vol\n",
        "plt.figure(figsize=(4,3))\n",
        "plt.barh(top5_by_vol.index,top5_by_vol.values)\n",
        "plt.xlabel('Volume')\n",
        "plt.title('Top 5 Stocks : by Volume')\n",
        "plt.show()\n"
      ],
      "metadata": {
        "colab": {
          "base_uri": "https://localhost:8080/",
          "height": 333
        },
        "id": "NeEK2-pL1cjz",
        "outputId": "74d3dd42-bae9-4733-c9d0-43d6d7b4c545"
      },
      "execution_count": null,
      "outputs": [
        {
          "output_type": "display_data",
          "data": {
            "text/plain": [
              "<Figure size 400x300 with 1 Axes>"
            ],
            "image/png": "[encoded data removed]"
          },
          "metadata": {}
        }
      ]
    },
    {
      "cell_type": "code",
      "source": [
        "df_group_vwap = df_4000.groupby('Symbol')['VWAP'].mean()"
      ],
      "metadata": {
        "id": "M-gP-FxZxf5h"
      },
      "execution_count": null,
      "outputs": []
    },
    {
      "cell_type": "markdown",
      "source": [
        "Finding Top 5 Stocks based on average VWAP"
      ],
      "metadata": {
        "id": "_NKvvVjSbT7m"
      }
    },
    {
      "cell_type": "code",
      "source": [
        "top5_by_vwap = df_group_vwap.sort_values(ascending=False).head(5)\n",
        "top5_by_vwap"
      ],
      "metadata": {
        "colab": {
          "base_uri": "https://localhost:8080/",
          "height": 272
        },
        "id": "p-E9jdb4xf25",
        "outputId": "43a41c0d-3c17-45eb-ef23-711fd741eb3b"
      },
      "execution_count": null,
      "outputs": [
        {
          "output_type": "execute_result",
          "data": {
            "text/plain": [
              "Symbol\n",
              "EICHERMOT     6754.185869\n",
              "SHREECEM      6565.083878\n",
              "MARUTI        2926.480642\n",
              "ULTRACEMCO    2151.959976\n",
              "DRREDDY       1829.621266\n",
              "Name: VWAP, dtype: float64"
            ],
            "text/html": [
              "<div>\n",
              "<style scoped>\n",
              "    .dataframe tbody tr th:only-of-type {\n",
              "        vertical-align: middle;\n",
              "    }\n",
              "\n",
              "    .dataframe tbody tr th {\n",
              "        vertical-align: top;\n",
              "    }\n",
              "\n",
              "    .dataframe thead th {\n",
              "        text-align: right;\n",
              "    }\n",
              "</style>\n",
              "<table border=\"1\" class=\"dataframe\">\n",
              "  <thead>\n",
              "    <tr style=\"text-align: right;\">\n",
              "      <th></th>\n",
              "      <th>VWAP</th>\n",
              "    </tr>\n",
              "    <tr>\n",
              "      <th>Symbol</th>\n",
              "      <th></th>\n",
              "    </tr>\n",
              "  </thead>\n",
              "  <tbody>\n",
              "    <tr>\n",
              "      <th>EICHERMOT</th>\n",
              "      <td>6754.185869</td>\n",
              "    </tr>\n",
              "    <tr>\n",
              "      <th>SHREECEM</th>\n",
              "      <td>6565.083878</td>\n",
              "    </tr>\n",
              "    <tr>\n",
              "      <th>MARUTI</th>\n",
              "      <td>2926.480642</td>\n",
              "    </tr>\n",
              "    <tr>\n",
              "      <th>ULTRACEMCO</th>\n",
              "      <td>2151.959976</td>\n",
              "    </tr>\n",
              "    <tr>\n",
              "      <th>DRREDDY</th>\n",
              "      <td>1829.621266</td>\n",
              "    </tr>\n",
              "  </tbody>\n",
              "</table>\n",
              "</div><br><label><b>dtype:</b> float64</label>"
            ]
          },
          "metadata": {},
          "execution_count": 45
        }
      ]
    },
    {
      "cell_type": "code",
      "source": [
        "# visualize the top 5 vwap\n",
        "plt.figure(figsize=(4,3))\n",
        "plt.barh(top5_by_vwap.index,top5_by_vwap.values)\n",
        "plt.xlabel('VWAP')\n",
        "plt.title('Top 5 : by VWAP')\n",
        "plt.show()"
      ],
      "metadata": {
        "colab": {
          "base_uri": "https://localhost:8080/",
          "height": 333
        },
        "id": "fivdzNRkjwud",
        "outputId": "ae6e8152-04c5-436c-d394-1903b4287d36"
      },
      "execution_count": null,
      "outputs": [
        {
          "output_type": "display_data",
          "data": {
            "text/plain": [
              "<Figure size 400x300 with 1 Axes>"
            ],
            "image/png": "[encoded data removed]"
          },
          "metadata": {}
        }
      ]
    },
    {
      "cell_type": "code",
      "source": [
        "df_group_turnover = df_4000.groupby('Symbol')['Turnover'].mean()"
      ],
      "metadata": {
        "id": "UdXIEfUwxfyP"
      },
      "execution_count": null,
      "outputs": []
    },
    {
      "cell_type": "markdown",
      "source": [
        "Finding Top 5 Stocks based on average Turnover"
      ],
      "metadata": {
        "id": "jjxw5UjQbkjU"
      }
    },
    {
      "cell_type": "code",
      "source": [
        "top5_by_turnover = df_group_turnover.sort_values(ascending=False).head(5)\n",
        "top5_by_turnover"
      ],
      "metadata": {
        "colab": {
          "base_uri": "https://localhost:8080/",
          "height": 272
        },
        "id": "NJOR39O4xfv_",
        "outputId": "d103fd1a-1f9e-459e-edfd-dc8c41734a47"
      },
      "execution_count": null,
      "outputs": [
        {
          "output_type": "execute_result",
          "data": {
            "text/plain": [
              "Symbol\n",
              "RELIANCE      6.076715e+14\n",
              "SBIN          4.136854e+14\n",
              "ICICIBANK     3.759336e+14\n",
              "TATAMOTORS    3.352950e+14\n",
              "TCS           2.952102e+14\n",
              "Name: Turnover, dtype: float64"
            ],
            "text/html": [
              "<div>\n",
              "<style scoped>\n",
              "    .dataframe tbody tr th:only-of-type {\n",
              "        vertical-align: middle;\n",
              "    }\n",
              "\n",
              "    .dataframe tbody tr th {\n",
              "        vertical-align: top;\n",
              "    }\n",
              "\n",
              "    .dataframe thead th {\n",
              "        text-align: right;\n",
              "    }\n",
              "</style>\n",
              "<table border=\"1\" class=\"dataframe\">\n",
              "  <thead>\n",
              "    <tr style=\"text-align: right;\">\n",
              "      <th></th>\n",
              "      <th>Turnover</th>\n",
              "    </tr>\n",
              "    <tr>\n",
              "      <th>Symbol</th>\n",
              "      <th></th>\n",
              "    </tr>\n",
              "  </thead>\n",
              "  <tbody>\n",
              "    <tr>\n",
              "      <th>RELIANCE</th>\n",
              "      <td>6.076715e+14</td>\n",
              "    </tr>\n",
              "    <tr>\n",
              "      <th>SBIN</th>\n",
              "      <td>4.136854e+14</td>\n",
              "    </tr>\n",
              "    <tr>\n",
              "      <th>ICICIBANK</th>\n",
              "      <td>3.759336e+14</td>\n",
              "    </tr>\n",
              "    <tr>\n",
              "      <th>TATAMOTORS</th>\n",
              "      <td>3.352950e+14</td>\n",
              "    </tr>\n",
              "    <tr>\n",
              "      <th>TCS</th>\n",
              "      <td>2.952102e+14</td>\n",
              "    </tr>\n",
              "  </tbody>\n",
              "</table>\n",
              "</div><br><label><b>dtype:</b> float64</label>"
            ]
          },
          "metadata": {},
          "execution_count": 47
        }
      ]
    },
    {
      "cell_type": "code",
      "source": [
        "# visualize the top 5 turnover\n",
        "plt.figure(figsize=(4,3))\n",
        "plt.barh(top5_by_turnover.index,top5_by_turnover.values)\n",
        "plt.xlabel('turnover')\n",
        "plt.title('Top 5 : by Turnover')\n",
        "plt.show()"
      ],
      "metadata": {
        "colab": {
          "base_uri": "https://localhost:8080/",
          "height": 333
        },
        "id": "xF6Lk5rwkZ1Z",
        "outputId": "412aaf4b-4fec-49a4-faac-1474b1105988"
      },
      "execution_count": null,
      "outputs": [
        {
          "output_type": "display_data",
          "data": {
            "text/plain": [
              "<Figure size 400x300 with 1 Axes>"
            ],
            "image/png": "[encoded data removed]"
          },
          "metadata": {}
        }
      ]
    },
    {
      "cell_type": "code",
      "source": [
        "df_group_delivery = df_4000.groupby('Symbol')['Deliverable Volume'].mean()"
      ],
      "metadata": {
        "id": "l7U4nG-LxfrX"
      },
      "execution_count": null,
      "outputs": []
    },
    {
      "cell_type": "markdown",
      "source": [
        "Finding Top 5 Stocks based on average Delivery"
      ],
      "metadata": {
        "id": "iJEZFToabnt1"
      }
    },
    {
      "cell_type": "code",
      "source": [
        "top5_by_delivery = df_group_delivery.sort_values(ascending=False).head(5)\n",
        "top5_by_delivery"
      ],
      "metadata": {
        "id": "8ttxazcXrhXz",
        "colab": {
          "base_uri": "https://localhost:8080/",
          "height": 272
        },
        "outputId": "dcb58f79-7dc3-44cb-bb5f-3b69c8ffb9b9"
      },
      "execution_count": null,
      "outputs": [
        {
          "output_type": "execute_result",
          "data": {
            "text/plain": [
              "Symbol\n",
              "ITC           4.571758e+06\n",
              "ICICIBANK     4.183406e+06\n",
              "NTPC          3.865508e+06\n",
              "TATAMOTORS    3.056415e+06\n",
              "SBIN          3.012573e+06\n",
              "Name: Deliverable Volume, dtype: float64"
            ],
            "text/html": [
              "<div>\n",
              "<style scoped>\n",
              "    .dataframe tbody tr th:only-of-type {\n",
              "        vertical-align: middle;\n",
              "    }\n",
              "\n",
              "    .dataframe tbody tr th {\n",
              "        vertical-align: top;\n",
              "    }\n",
              "\n",
              "    .dataframe thead th {\n",
              "        text-align: right;\n",
              "    }\n",
              "</style>\n",
              "<table border=\"1\" class=\"dataframe\">\n",
              "  <thead>\n",
              "    <tr style=\"text-align: right;\">\n",
              "      <th></th>\n",
              "      <th>Deliverable Volume</th>\n",
              "    </tr>\n",
              "    <tr>\n",
              "      <th>Symbol</th>\n",
              "      <th></th>\n",
              "    </tr>\n",
              "  </thead>\n",
              "  <tbody>\n",
              "    <tr>\n",
              "      <th>ITC</th>\n",
              "      <td>4.571758e+06</td>\n",
              "    </tr>\n",
              "    <tr>\n",
              "      <th>ICICIBANK</th>\n",
              "      <td>4.183406e+06</td>\n",
              "    </tr>\n",
              "    <tr>\n",
              "      <th>NTPC</th>\n",
              "      <td>3.865508e+06</td>\n",
              "    </tr>\n",
              "    <tr>\n",
              "      <th>TATAMOTORS</th>\n",
              "      <td>3.056415e+06</td>\n",
              "    </tr>\n",
              "    <tr>\n",
              "      <th>SBIN</th>\n",
              "      <td>3.012573e+06</td>\n",
              "    </tr>\n",
              "  </tbody>\n",
              "</table>\n",
              "</div><br><label><b>dtype:</b> float64</label>"
            ]
          },
          "metadata": {},
          "execution_count": 49
        }
      ]
    },
    {
      "cell_type": "code",
      "source": [
        "# visualize the top 5 delivery\n",
        "plt.figure(figsize=(4,3))\n",
        "plt.barh(top5_by_delivery.index,top5_by_delivery.values)\n",
        "plt.xlabel('delivery')\n",
        "plt.title('Top 5 : by delivery')\n",
        "plt.show()"
      ],
      "metadata": {
        "id": "PzK1rQi2rhVY",
        "colab": {
          "base_uri": "https://localhost:8080/",
          "height": 333
        },
        "outputId": "daa77ba0-a7db-4924-e9eb-38d4e5ec5224"
      },
      "execution_count": null,
      "outputs": [
        {
          "output_type": "display_data",
          "data": {
            "text/plain": [
              "<Figure size 400x300 with 1 Axes>"
            ],
            "image/png": "[encoded data removed]"
          },
          "metadata": {}
        }
      ]
    },
    {
      "cell_type": "code",
      "source": [
        "close4000 = df_4000.pivot(index='Date',columns='Symbol',values='Close')"
      ],
      "metadata": {
        "id": "-2Xa7_TltlS0"
      },
      "execution_count": null,
      "outputs": []
    },
    {
      "cell_type": "code",
      "source": [
        "close4000"
      ],
      "metadata": {
        "colab": {
          "base_uri": "https://localhost:8080/",
          "height": 648
        },
        "id": "JgM7wVpjuWEV",
        "outputId": "05ead99a-12ed-44ba-ca3c-f6e20a5ed675"
      },
      "execution_count": null,
      "outputs": [
        {
          "output_type": "execute_result",
          "data": {
            "text/plain": [
              "Symbol      ASIANPAINT    BPCL  BRITANNIA    CIPLA  DRREDDY  EICHERMOT  \\\n",
              "Date                                                                     \n",
              "2000-01-03      381.65  399.25     756.90  1457.35  1508.25      48.85   \n",
              "2000-01-04      385.55  370.50     754.55  1465.25  1628.95      51.40   \n",
              "2000-01-05      383.00  359.95     735.30  1435.05  1568.05      55.55   \n",
              "2000-01-06      377.50  380.30     785.65  1355.85  1661.55      60.00   \n",
              "2000-01-07      385.70  379.85     848.50  1247.55  1529.10      64.65   \n",
              "...                ...     ...        ...      ...      ...        ...   \n",
              "2021-04-26     2557.90  418.90    3539.20   905.40  5066.70    2369.85   \n",
              "2021-04-27     2574.35  420.35    3541.20   912.40  5057.25    2400.10   \n",
              "2021-04-28     2614.55  417.50    3478.75   910.20  5044.45    2521.20   \n",
              "2021-04-29     2613.45  419.55    3468.90   906.50  5102.30    2462.90   \n",
              "2021-04-30     2536.40  421.80    3449.00   910.35  5163.10    2421.65   \n",
              "\n",
              "Symbol        GAIL   GRASIM  HCLTECH     HDFC  ...    ONGC  RELIANCE    SBIN  \\\n",
              "Date                                           ...                             \n",
              "2000-01-03   68.70   438.30      NaN   293.50  ...  213.45    251.70  243.65   \n",
              "2000-01-04   66.35   437.15      NaN   304.05  ...  206.55    271.85  259.10   \n",
              "2000-01-05   63.20   439.60      NaN   292.80  ...  223.10    282.50  248.45   \n",
              "2000-01-06   64.95   474.80      NaN   296.45  ...  219.30    294.35  261.00   \n",
              "2000-01-07   62.65   512.80      NaN   286.55  ...  215.75    314.55  273.30   \n",
              "...            ...      ...      ...      ...  ...     ...       ...     ...   \n",
              "2021-04-26  130.00  1312.35   928.80  2509.80  ...  102.80   1937.85  344.30   \n",
              "2021-04-27  131.55  1331.20   928.85  2518.40  ...  103.20   1988.65  353.05   \n",
              "2021-04-28  133.35  1341.15   923.80  2577.00  ...  103.90   1997.30  363.40   \n",
              "2021-04-29  134.80  1350.70   909.55  2538.85  ...  104.05   2024.05  359.40   \n",
              "2021-04-30  137.20  1401.75   898.95  2420.10  ...  108.15   1994.50  353.50   \n",
              "\n",
              "Symbol      SHREECEM  SUNPHARMA  TATAMOTORS      TCS    TITAN  ULTRACEMCO  \\\n",
              "Date                                                                        \n",
              "2000-01-03     64.75    1835.05         NaN      NaN   155.70         NaN   \n",
              "2000-01-04     59.85    1810.45         NaN      NaN   147.40         NaN   \n",
              "2000-01-05     60.00    1746.90         NaN      NaN   138.40         NaN   \n",
              "2000-01-06     60.60    1745.20         NaN      NaN   149.50         NaN   \n",
              "2000-01-07     60.45    1605.60         NaN      NaN   146.35         NaN   \n",
              "...              ...        ...         ...      ...      ...         ...   \n",
              "2021-04-26  28062.60     634.70      295.40  3100.80  1479.85     6275.90   \n",
              "2021-04-27  28098.55     639.25      301.50  3132.00  1495.10     6326.80   \n",
              "2021-04-28  28687.55     643.40      305.90  3124.10  1508.85     6360.80   \n",
              "2021-04-29  28444.35     644.50      301.90  3115.25  1506.80     6382.45   \n",
              "2021-04-30  27910.50     654.45      293.85  3035.65  1491.65     6278.95   \n",
              "\n",
              "Symbol        WIPRO  \n",
              "Date                 \n",
              "2000-01-03  2724.20  \n",
              "2000-01-04  2942.15  \n",
              "2000-01-05  2990.10  \n",
              "2000-01-06  2932.25  \n",
              "2000-01-07  2697.70  \n",
              "...             ...  \n",
              "2021-04-26   480.30  \n",
              "2021-04-27   485.05  \n",
              "2021-04-28   489.30  \n",
              "2021-04-29   489.85  \n",
              "2021-04-30   492.75  \n",
              "\n",
              "[5306 rows x 30 columns]"
            ],
            "text/html": [
              "\n",
              "  <div id=\"df-755f6cc2-111c-49b5-9703-3672f9e7c064\" class=\"colab-df-container\">\n",
              "    <div>\n",
              "<style scoped>\n",
              "    .dataframe tbody tr th:only-of-type {\n",
              "        vertical-align: middle;\n",
              "    }\n",
              "\n",
              "    .dataframe tbody tr th {\n",
              "        vertical-align: top;\n",
              "    }\n",
              "\n",
              "    .dataframe thead th {\n",
              "        text-align: right;\n",
              "    }\n",
              "</style>\n",
              "<table border=\"1\" class=\"dataframe\">\n",
              "  <thead>\n",
              "    <tr style=\"text-align: right;\">\n",
              "      <th>Symbol</th>\n",
              "      <th>ASIANPAINT</th>\n",
              "      <th>BPCL</th>\n",
              "      <th>BRITANNIA</th>\n",
              "      <th>CIPLA</th>\n",
              "      <th>DRREDDY</th>\n",
              "      <th>EICHERMOT</th>\n",
              "      <th>GAIL</th>\n",
              "      <th>GRASIM</th>\n",
              "      <th>HCLTECH</th>\n",
              "      <th>HDFC</th>\n",
              "      <th>...</th>\n",
              "      <th>ONGC</th>\n",
              "      <th>RELIANCE</th>\n",
              "      <th>SBIN</th>\n",
              "      <th>SHREECEM</th>\n",
              "      <th>SUNPHARMA</th>\n",
              "      <th>TATAMOTORS</th>\n",
              "      <th>TCS</th>\n",
              "      <th>TITAN</th>\n",
              "      <th>ULTRACEMCO</th>\n",
              "      <th>WIPRO</th>\n",
              "    </tr>\n",
              "    <tr>\n",
              "      <th>Date</th>\n",
              "      <th></th>\n",
              "      <th></th>\n",
              "      <th></th>\n",
              "      <th></th>\n",
              "      <th></th>\n",
              "      <th></th>\n",
              "      <th></th>\n",
              "      <th></th>\n",
              "      <th></th>\n",
              "      <th></th>\n",
              "      <th></th>\n",
              "      <th></th>\n",
              "      <th></th>\n",
              "      <th></th>\n",
              "      <th></th>\n",
              "      <th></th>\n",
              "      <th></th>\n",
              "      <th></th>\n",
              "      <th></th>\n",
              "      <th></th>\n",
              "      <th></th>\n",
              "    </tr>\n",
              "  </thead>\n",
              "  <tbody>\n",
              "    <tr>\n",
              "      <th>2000-01-03</th>\n",
              "      <td>381.65</td>\n",
              "      <td>399.25</td>\n",
              "      <td>756.90</td>\n",
              "      <td>1457.35</td>\n",
              "      <td>1508.25</td>\n",
              "      <td>48.85</td>\n",
              "      <td>68.70</td>\n",
              "      <td>438.30</td>\n",
              "      <td>NaN</td>\n",
              "      <td>293.50</td>\n",
              "      <td>...</td>\n",
              "      <td>213.45</td>\n",
              "      <td>251.70</td>\n",
              "      <td>243.65</td>\n",
              "      <td>64.75</td>\n",
              "      <td>1835.05</td>\n",
              "      <td>NaN</td>\n",
              "      <td>NaN</td>\n",
              "      <td>155.70</td>\n",
              "      <td>NaN</td>\n",
              "      <td>2724.20</td>\n",
              "    </tr>\n",
              "    <tr>\n",
              "      <th>2000-01-04</th>\n",
              "      <td>385.55</td>\n",
              "      <td>370.50</td>\n",
              "      <td>754.55</td>\n",
              "      <td>1465.25</td>\n",
              "      <td>1628.95</td>\n",
              "      <td>51.40</td>\n",
              "      <td>66.35</td>\n",
              "      <td>437.15</td>\n",
              "      <td>NaN</td>\n",
              "      <td>304.05</td>\n",
              "      <td>...</td>\n",
              "      <td>206.55</td>\n",
              "      <td>271.85</td>\n",
              "      <td>259.10</td>\n",
              "      <td>59.85</td>\n",
              "      <td>1810.45</td>\n",
              "      <td>NaN</td>\n",
              "      <td>NaN</td>\n",
              "      <td>147.40</td>\n",
              "      <td>NaN</td>\n",
              "      <td>2942.15</td>\n",
              "    </tr>\n",
              "    <tr>\n",
              "      <th>2000-01-05</th>\n",
              "      <td>383.00</td>\n",
              "      <td>359.95</td>\n",
              "      <td>735.30</td>\n",
              "      <td>1435.05</td>\n",
              "      <td>1568.05</td>\n",
              "      <td>55.55</td>\n",
              "      <td>63.20</td>\n",
              "      <td>439.60</td>\n",
              "      <td>NaN</td>\n",
              "      <td>292.80</td>\n",
              "      <td>...</td>\n",
              "      <td>223.10</td>\n",
              "      <td>282.50</td>\n",
              "      <td>248.45</td>\n",
              "      <td>60.00</td>\n",
              "      <td>1746.90</td>\n",
              "      <td>NaN</td>\n",
              "      <td>NaN</td>\n",
              "      <td>138.40</td>\n",
              "      <td>NaN</td>\n",
              "      <td>2990.10</td>\n",
              "    </tr>\n",
              "    <tr>\n",
              "      <th>2000-01-06</th>\n",
              "      <td>377.50</td>\n",
              "      <td>380.30</td>\n",
              "      <td>785.65</td>\n",
              "      <td>1355.85</td>\n",
              "      <td>1661.55</td>\n",
              "      <td>60.00</td>\n",
              "      <td>64.95</td>\n",
              "      <td>474.80</td>\n",
              "      <td>NaN</td>\n",
              "      <td>296.45</td>\n",
              "      <td>...</td>\n",
              "      <td>219.30</td>\n",
              "      <td>294.35</td>\n",
              "      <td>261.00</td>\n",
              "      <td>60.60</td>\n",
              "      <td>1745.20</td>\n",
              "      <td>NaN</td>\n",
              "      <td>NaN</td>\n",
              "      <td>149.50</td>\n",
              "      <td>NaN</td>\n",
              "      <td>2932.25</td>\n",
              "    </tr>\n",
              "    <tr>\n",
              "      <th>2000-01-07</th>\n",
              "      <td>385.70</td>\n",
              "      <td>379.85</td>\n",
              "      <td>848.50</td>\n",
              "      <td>1247.55</td>\n",
              "      <td>1529.10</td>\n",
              "      <td>64.65</td>\n",
              "      <td>62.65</td>\n",
              "      <td>512.80</td>\n",
              "      <td>NaN</td>\n",
              "      <td>286.55</td>\n",
              "      <td>...</td>\n",
              "      <td>215.75</td>\n",
              "      <td>314.55</td>\n",
              "      <td>273.30</td>\n",
              "      <td>60.45</td>\n",
              "      <td>1605.60</td>\n",
              "      <td>NaN</td>\n",
              "      <td>NaN</td>\n",
              "      <td>146.35</td>\n",
              "      <td>NaN</td>\n",
              "      <td>2697.70</td>\n",
              "    </tr>\n",
              "    <tr>\n",
              "      <th>...</th>\n",
              "      <td>...</td>\n",
              "      <td>...</td>\n",
              "      <td>...</td>\n",
              "      <td>...</td>\n",
              "      <td>...</td>\n",
              "      <td>...</td>\n",
              "      <td>...</td>\n",
              "      <td>...</td>\n",
              "      <td>...</td>\n",
              "      <td>...</td>\n",
              "      <td>...</td>\n",
              "      <td>...</td>\n",
              "      <td>...</td>\n",
              "      <td>...</td>\n",
              "      <td>...</td>\n",
              "      <td>...</td>\n",
              "      <td>...</td>\n",
              "      <td>...</td>\n",
              "      <td>...</td>\n",
              "      <td>...</td>\n",
              "      <td>...</td>\n",
              "    </tr>\n",
              "    <tr>\n",
              "      <th>2021-04-26</th>\n",
              "      <td>2557.90</td>\n",
              "      <td>418.90</td>\n",
              "      <td>3539.20</td>\n",
              "      <td>905.40</td>\n",
              "      <td>5066.70</td>\n",
              "      <td>2369.85</td>\n",
              "      <td>130.00</td>\n",
              "      <td>1312.35</td>\n",
              "      <td>928.80</td>\n",
              "      <td>2509.80</td>\n",
              "      <td>...</td>\n",
              "      <td>102.80</td>\n",
              "      <td>1937.85</td>\n",
              "      <td>344.30</td>\n",
              "      <td>28062.60</td>\n",
              "      <td>634.70</td>\n",
              "      <td>295.40</td>\n",
              "      <td>3100.80</td>\n",
              "      <td>1479.85</td>\n",
              "      <td>6275.90</td>\n",
              "      <td>480.30</td>\n",
              "    </tr>\n",
              "    <tr>\n",
              "      <th>2021-04-27</th>\n",
              "      <td>2574.35</td>\n",
              "      <td>420.35</td>\n",
              "      <td>3541.20</td>\n",
              "      <td>912.40</td>\n",
              "      <td>5057.25</td>\n",
              "      <td>2400.10</td>\n",
              "      <td>131.55</td>\n",
              "      <td>1331.20</td>\n",
              "      <td>928.85</td>\n",
              "      <td>2518.40</td>\n",
              "      <td>...</td>\n",
              "      <td>103.20</td>\n",
              "      <td>1988.65</td>\n",
              "      <td>353.05</td>\n",
              "      <td>28098.55</td>\n",
              "      <td>639.25</td>\n",
              "      <td>301.50</td>\n",
              "      <td>3132.00</td>\n",
              "      <td>1495.10</td>\n",
              "      <td>6326.80</td>\n",
              "      <td>485.05</td>\n",
              "    </tr>\n",
              "    <tr>\n",
              "      <th>2021-04-28</th>\n",
              "      <td>2614.55</td>\n",
              "      <td>417.50</td>\n",
              "      <td>3478.75</td>\n",
              "      <td>910.20</td>\n",
              "      <td>5044.45</td>\n",
              "      <td>2521.20</td>\n",
              "      <td>133.35</td>\n",
              "      <td>1341.15</td>\n",
              "      <td>923.80</td>\n",
              "      <td>2577.00</td>\n",
              "      <td>...</td>\n",
              "      <td>103.90</td>\n",
              "      <td>1997.30</td>\n",
              "      <td>363.40</td>\n",
              "      <td>28687.55</td>\n",
              "      <td>643.40</td>\n",
              "      <td>305.90</td>\n",
              "      <td>3124.10</td>\n",
              "      <td>1508.85</td>\n",
              "      <td>6360.80</td>\n",
              "      <td>489.30</td>\n",
              "    </tr>\n",
              "    <tr>\n",
              "      <th>2021-04-29</th>\n",
              "      <td>2613.45</td>\n",
              "      <td>419.55</td>\n",
              "      <td>3468.90</td>\n",
              "      <td>906.50</td>\n",
              "      <td>5102.30</td>\n",
              "      <td>2462.90</td>\n",
              "      <td>134.80</td>\n",
              "      <td>1350.70</td>\n",
              "      <td>909.55</td>\n",
              "      <td>2538.85</td>\n",
              "      <td>...</td>\n",
              "      <td>104.05</td>\n",
              "      <td>2024.05</td>\n",
              "      <td>359.40</td>\n",
              "      <td>28444.35</td>\n",
              "      <td>644.50</td>\n",
              "      <td>301.90</td>\n",
              "      <td>3115.25</td>\n",
              "      <td>1506.80</td>\n",
              "      <td>6382.45</td>\n",
              "      <td>489.85</td>\n",
              "    </tr>\n",
              "    <tr>\n",
              "      <th>2021-04-30</th>\n",
              "      <td>2536.40</td>\n",
              "      <td>421.80</td>\n",
              "      <td>3449.00</td>\n",
              "      <td>910.35</td>\n",
              "      <td>5163.10</td>\n",
              "      <td>2421.65</td>\n",
              "      <td>137.20</td>\n",
              "      <td>1401.75</td>\n",
              "      <td>898.95</td>\n",
              "      <td>2420.10</td>\n",
              "      <td>...</td>\n",
              "      <td>108.15</td>\n",
              "      <td>1994.50</td>\n",
              "      <td>353.50</td>\n",
              "      <td>27910.50</td>\n",
              "      <td>654.45</td>\n",
              "      <td>293.85</td>\n",
              "      <td>3035.65</td>\n",
              "      <td>1491.65</td>\n",
              "      <td>6278.95</td>\n",
              "      <td>492.75</td>\n",
              "    </tr>\n",
              "  </tbody>\n",
              "</table>\n",
              "<p>5306 rows × 30 columns</p>\n",
              "</div>\n",
              "    <div class=\"colab-df-buttons\">\n",
              "\n",
              "  <div class=\"colab-df-container\">\n",
              "    <button class=\"colab-df-convert\" onclick=\"convertToInteractive('df-755f6cc2-111c-49b5-9703-3672f9e7c064')\"\n",
              "            title=\"Convert this dataframe to an interactive table.\"\n",
              "            style=\"display:none;\">\n",
              "\n",
              "  <svg xmlns=\"http://www.w3.org/2000/svg\" height=\"24px\" viewBox=\"0 -960 960 960\">\n",
              "    <path d=\"M120-120v-720h720v720H120Zm60-500h600v-160H180v160Zm220 220h160v-160H400v160Zm0 220h160v-160H400v160ZM180-400h160v-160H180v160Zm440 0h160v-160H620v160ZM180-180h160v-160H180v160Zm440 0h160v-160H620v160Z\"/>\n",
              "  </svg>\n",
              "    </button>\n",
              "\n",
              "  <style>\n",
              "    .colab-df-container {\n",
              "      display:flex;\n",
              "      gap: 12px;\n",
              "    }\n",
              "\n",
              "    .colab-df-convert {\n",
              "      background-color: #E8F0FE;\n",
              "      border: none;\n",
              "      border-radius: 50%;\n",
              "      cursor: pointer;\n",
              "      display: none;\n",
              "      fill: #1967D2;\n",
              "      height: 32px;\n",
              "      padding: 0 0 0 0;\n",
              "      width: 32px;\n",
              "    }\n",
              "\n",
              "    .colab-df-convert:hover {\n",
              "      background-color: #E2EBFA;\n",
              "      box-shadow: 0px 1px 2px rgba(60, 64, 67, 0.3), 0px 1px 3px 1px rgba(60, 64, 67, 0.15);\n",
              "      fill: #174EA6;\n",
              "    }\n",
              "\n",
              "    .colab-df-buttons div {\n",
              "      margin-bottom: 4px;\n",
              "    }\n",
              "\n",
              "    [theme=dark] .colab-df-convert {\n",
              "      background-color: #3B4455;\n",
              "      fill: #D2E3FC;\n",
              "    }\n",
              "\n",
              "    [theme=dark] .colab-df-convert:hover {\n",
              "      background-color: #434B5C;\n",
              "      box-shadow: 0px 1px 3px 1px rgba(0, 0, 0, 0.15);\n",
              "      filter: drop-shadow(0px 1px 2px rgba(0, 0, 0, 0.3));\n",
              "      fill: #FFFFFF;\n",
              "    }\n",
              "  </style>\n",
              "\n",
              "    <script>\n",
              "      const buttonEl =\n",
              "        document.querySelector('#df-755f6cc2-111c-49b5-9703-3672f9e7c064 button.colab-df-convert');\n",
              "      buttonEl.style.display =\n",
              "        google.colab.kernel.accessAllowed ? 'block' : 'none';\n",
              "\n",
              "      async function convertToInteractive(key) {\n",
              "        const element = document.querySelector('#df-755f6cc2-111c-49b5-9703-3672f9e7c064');\n",
              "        const dataTable =\n",
              "          await google.colab.kernel.invokeFunction('convertToInteractive',\n",
              "                                                    [key], {});\n",
              "        if (!dataTable) return;\n",
              "\n",
              "        const docLinkHtml = 'Like what you see? Visit the ' +\n",
              "          '<a target=\"_blank\" href=https://colab.research.google.com/notebooks/data_table.ipynb>data table notebook</a>'\n",
              "          + ' to learn more about interactive tables.';\n",
              "        element.innerHTML = '';\n",
              "        dataTable['output_type'] = 'display_data';\n",
              "        await google.colab.output.renderOutput(dataTable, element);\n",
              "        const docLink = document.createElement('div');\n",
              "        docLink.innerHTML = docLinkHtml;\n",
              "        element.appendChild(docLink);\n",
              "      }\n",
              "    </script>\n",
              "  </div>\n",
              "\n",
              "\n",
              "<div id=\"df-cb52fbea-8489-46e3-9962-7df05764216a\">\n",
              "  <button class=\"colab-df-quickchart\" onclick=\"quickchart('df-cb52fbea-8489-46e3-9962-7df05764216a')\"\n",
              "            title=\"Suggest charts\"\n",
              "            style=\"display:none;\">\n",
              "\n",
              "<svg xmlns=\"http://www.w3.org/2000/svg\" height=\"24px\"viewBox=\"0 0 24 24\"\n",
              "     width=\"24px\">\n",
              "    <g>\n",
              "        <path d=\"M19 3H5c-1.1 0-2 .9-2 2v14c0 1.1.9 2 2 2h14c1.1 0 2-.9 2-2V5c0-1.1-.9-2-2-2zM9 17H7v-7h2v7zm4 0h-2V7h2v10zm4 0h-2v-4h2v4z\"/>\n",
              "    </g>\n",
              "</svg>\n",
              "  </button>\n",
              "\n",
              "<style>\n",
              "  .colab-df-quickchart {\n",
              "      --bg-color: #E8F0FE;\n",
              "      --fill-color: #1967D2;\n",
              "      --hover-bg-color: #E2EBFA;\n",
              "      --hover-fill-color: #174EA6;\n",
              "      --disabled-fill-color: #AAA;\n",
              "      --disabled-bg-color: #DDD;\n",
              "  }\n",
              "\n",
              "  [theme=dark] .colab-df-quickchart {\n",
              "      --bg-color: #3B4455;\n",
              "      --fill-color: #D2E3FC;\n",
              "      --hover-bg-color: #434B5C;\n",
              "      --hover-fill-color: #FFFFFF;\n",
              "      --disabled-bg-color: #3B4455;\n",
              "      --disabled-fill-color: #666;\n",
              "  }\n",
              "\n",
              "  .colab-df-quickchart {\n",
              "    background-color: var(--bg-color);\n",
              "    border: none;\n",
              "    border-radius: 50%;\n",
              "    cursor: pointer;\n",
              "    display: none;\n",
              "    fill: var(--fill-color);\n",
              "    height: 32px;\n",
              "    padding: 0;\n",
              "    width: 32px;\n",
              "  }\n",
              "\n",
              "  .colab-df-quickchart:hover {\n",
              "    background-color: var(--hover-bg-color);\n",
              "    box-shadow: 0 1px 2px rgba(60, 64, 67, 0.3), 0 1px 3px 1px rgba(60, 64, 67, 0.15);\n",
              "    fill: var(--button-hover-fill-color);\n",
              "  }\n",
              "\n",
              "  .colab-df-quickchart-complete:disabled,\n",
              "  .colab-df-quickchart-complete:disabled:hover {\n",
              "    background-color: var(--disabled-bg-color);\n",
              "    fill: var(--disabled-fill-color);\n",
              "    box-shadow: none;\n",
              "  }\n",
              "\n",
              "  .colab-df-spinner {\n",
              "    border: 2px solid var(--fill-color);\n",
              "    border-color: transparent;\n",
              "    border-bottom-color: var(--fill-color);\n",
              "    animation:\n",
              "      spin 1s steps(1) infinite;\n",
              "  }\n",
              "\n",
              "  @keyframes spin {\n",
              "    0% {\n",
              "      border-color: transparent;\n",
              "      border-bottom-color: var(--fill-color);\n",
              "      border-left-color: var(--fill-color);\n",
              "    }\n",
              "    20% {\n",
              "      border-color: transparent;\n",
              "      border-left-color: var(--fill-color);\n",
              "      border-top-color: var(--fill-color);\n",
              "    }\n",
              "    30% {\n",
              "      border-color: transparent;\n",
              "      border-left-color: var(--fill-color);\n",
              "      border-top-color: var(--fill-color);\n",
              "      border-right-color: var(--fill-color);\n",
              "    }\n",
              "    40% {\n",
              "      border-color: transparent;\n",
              "      border-right-color: var(--fill-color);\n",
              "      border-top-color: var(--fill-color);\n",
              "    }\n",
              "    60% {\n",
              "      border-color: transparent;\n",
              "      border-right-color: var(--fill-color);\n",
              "    }\n",
              "    80% {\n",
              "      border-color: transparent;\n",
              "      border-right-color: var(--fill-color);\n",
              "      border-bottom-color: var(--fill-color);\n",
              "    }\n",
              "    90% {\n",
              "      border-color: transparent;\n",
              "      border-bottom-color: var(--fill-color);\n",
              "    }\n",
              "  }\n",
              "</style>\n",
              "\n",
              "  <script>\n",
              "    async function quickchart(key) {\n",
              "      const quickchartButtonEl =\n",
              "        document.querySelector('#' + key + ' button');\n",
              "      quickchartButtonEl.disabled = true;  // To prevent multiple clicks.\n",
              "      quickchartButtonEl.classList.add('colab-df-spinner');\n",
              "      try {\n",
              "        const charts = await google.colab.kernel.invokeFunction(\n",
              "            'suggestCharts', [key], {});\n",
              "      } catch (error) {\n",
              "        console.error('Error during call to suggestCharts:', error);\n",
              "      }\n",
              "      quickchartButtonEl.classList.remove('colab-df-spinner');\n",
              "      quickchartButtonEl.classList.add('colab-df-quickchart-complete');\n",
              "    }\n",
              "    (() => {\n",
              "      let quickchartButtonEl =\n",
              "        document.querySelector('#df-cb52fbea-8489-46e3-9962-7df05764216a button');\n",
              "      quickchartButtonEl.style.display =\n",
              "        google.colab.kernel.accessAllowed ? 'block' : 'none';\n",
              "    })();\n",
              "  </script>\n",
              "</div>\n",
              "\n",
              "  <div id=\"id_6425956f-02b2-425c-8dce-658713cdcad6\">\n",
              "    <style>\n",
              "      .colab-df-generate {\n",
              "        background-color: #E8F0FE;\n",
              "        border: none;\n",
              "        border-radius: 50%;\n",
              "        cursor: pointer;\n",
              "        display: none;\n",
              "        fill: #1967D2;\n",
              "        height: 32px;\n",
              "        padding: 0 0 0 0;\n",
              "        width: 32px;\n",
              "      }\n",
              "\n",
              "      .colab-df-generate:hover {\n",
              "        background-color: #E2EBFA;\n",
              "        box-shadow: 0px 1px 2px rgba(60, 64, 67, 0.3), 0px 1px 3px 1px rgba(60, 64, 67, 0.15);\n",
              "        fill: #174EA6;\n",
              "      }\n",
              "\n",
              "      [theme=dark] .colab-df-generate {\n",
              "        background-color: #3B4455;\n",
              "        fill: #D2E3FC;\n",
              "      }\n",
              "\n",
              "      [theme=dark] .colab-df-generate:hover {\n",
              "        background-color: #434B5C;\n",
              "        box-shadow: 0px 1px 3px 1px rgba(0, 0, 0, 0.15);\n",
              "        filter: drop-shadow(0px 1px 2px rgba(0, 0, 0, 0.3));\n",
              "        fill: #FFFFFF;\n",
              "      }\n",
              "    </style>\n",
              "    <button class=\"colab-df-generate\" onclick=\"generateWithVariable('close4000')\"\n",
              "            title=\"Generate code using this dataframe.\"\n",
              "            style=\"display:none;\">\n",
              "\n",
              "  <svg xmlns=\"http://www.w3.org/2000/svg\" height=\"24px\"viewBox=\"0 0 24 24\"\n",
              "       width=\"24px\">\n",
              "    <path d=\"M7,19H8.4L18.45,9,17,7.55,7,17.6ZM5,21V16.75L18.45,3.32a2,2,0,0,1,2.83,0l1.4,1.43a1.91,1.91,0,0,1,.58,1.4,1.91,1.91,0,0,1-.58,1.4L9.25,21ZM18.45,9,17,7.55Zm-12,3A5.31,5.31,0,0,0,4.9,8.1,5.31,5.31,0,0,0,1,6.5,5.31,5.31,0,0,0,4.9,4.9,5.31,5.31,0,0,0,6.5,1,5.31,5.31,0,0,0,8.1,4.9,5.31,5.31,0,0,0,12,6.5,5.46,5.46,0,0,0,6.5,12Z\"/>\n",
              "  </svg>\n",
              "    </button>\n",
              "    <script>\n",
              "      (() => {\n",
              "      const buttonEl =\n",
              "        document.querySelector('#id_6425956f-02b2-425c-8dce-658713cdcad6 button.colab-df-generate');\n",
              "      buttonEl.style.display =\n",
              "        google.colab.kernel.accessAllowed ? 'block' : 'none';\n",
              "\n",
              "      buttonEl.onclick = () => {\n",
              "        google.colab.notebook.generateWithVariable('close4000');\n",
              "      }\n",
              "      })();\n",
              "    </script>\n",
              "  </div>\n",
              "\n",
              "    </div>\n",
              "  </div>\n"
            ],
            "application/vnd.google.colaboratory.intrinsic+json": {
              "type": "dataframe",
              "variable_name": "close4000"
            }
          },
          "metadata": {},
          "execution_count": 51
        }
      ]
    },
    {
      "cell_type": "markdown",
      "source": [
        "We will analyze the stocks based on the Returns generated\n",
        "\n",
        "Finding the individual stock return : Resampling the data by Year and then finding the average annual return"
      ],
      "metadata": {
        "id": "5ErAHQp3o-nz"
      }
    },
    {
      "cell_type": "code",
      "source": [
        "asset_return = close4000.resample('Y').last().pct_change().dropna().mean()"
      ],
      "metadata": {
        "colab": {
          "base_uri": "https://localhost:8080/"
        },
        "id": "OjMcJcEQ1FEI",
        "outputId": "ff8ccfbf-5d12-4f56-ec41-354d173b68f0"
      },
      "execution_count": null,
      "outputs": [
        {
          "output_type": "stream",
          "name": "stderr",
          "text": [
            "<ipython-input-55-5f4e547f1799>:3: FutureWarning: 'Y' is deprecated and will be removed in a future version, please use 'YE' instead.\n",
            "  asset_return = close4000.resample('Y').last().pct_change().dropna().mean()\n"
          ]
        }
      ]
    },
    {
      "cell_type": "markdown",
      "source": [
        "Getting Top 10 Stocks based on average Annual Return"
      ],
      "metadata": {
        "id": "jE-tOXJ-qX5N"
      }
    },
    {
      "cell_type": "code",
      "source": [
        "top10return = asset_return.sort_values(ascending=False).head(10)*100\n",
        "top10return"
      ],
      "metadata": {
        "colab": {
          "base_uri": "https://localhost:8080/",
          "height": 428
        },
        "id": "4alT3m4S1FBJ",
        "outputId": "e5ec0e29-947a-4f0d-ff8e-516a5c5296af"
      },
      "execution_count": null,
      "outputs": [
        {
          "output_type": "execute_result",
          "data": {
            "text/plain": [
              "Symbol\n",
              "SHREECEM      52.862834\n",
              "TITAN         48.253876\n",
              "INDUSINDBK    37.848604\n",
              "EICHERMOT     37.528024\n",
              "KOTAKBANK     28.474207\n",
              "ULTRACEMCO    28.473541\n",
              "TATAMOTORS    27.624874\n",
              "ASIANPAINT    27.579246\n",
              "MARUTI        27.565096\n",
              "HCLTECH       21.691159\n",
              "dtype: float64"
            ],
            "text/html": [
              "<div>\n",
              "<style scoped>\n",
              "    .dataframe tbody tr th:only-of-type {\n",
              "        vertical-align: middle;\n",
              "    }\n",
              "\n",
              "    .dataframe tbody tr th {\n",
              "        vertical-align: top;\n",
              "    }\n",
              "\n",
              "    .dataframe thead th {\n",
              "        text-align: right;\n",
              "    }\n",
              "</style>\n",
              "<table border=\"1\" class=\"dataframe\">\n",
              "  <thead>\n",
              "    <tr style=\"text-align: right;\">\n",
              "      <th></th>\n",
              "      <th>0</th>\n",
              "    </tr>\n",
              "    <tr>\n",
              "      <th>Symbol</th>\n",
              "      <th></th>\n",
              "    </tr>\n",
              "  </thead>\n",
              "  <tbody>\n",
              "    <tr>\n",
              "      <th>SHREECEM</th>\n",
              "      <td>52.862834</td>\n",
              "    </tr>\n",
              "    <tr>\n",
              "      <th>TITAN</th>\n",
              "      <td>48.253876</td>\n",
              "    </tr>\n",
              "    <tr>\n",
              "      <th>INDUSINDBK</th>\n",
              "      <td>37.848604</td>\n",
              "    </tr>\n",
              "    <tr>\n",
              "      <th>EICHERMOT</th>\n",
              "      <td>37.528024</td>\n",
              "    </tr>\n",
              "    <tr>\n",
              "      <th>KOTAKBANK</th>\n",
              "      <td>28.474207</td>\n",
              "    </tr>\n",
              "    <tr>\n",
              "      <th>ULTRACEMCO</th>\n",
              "      <td>28.473541</td>\n",
              "    </tr>\n",
              "    <tr>\n",
              "      <th>TATAMOTORS</th>\n",
              "      <td>27.624874</td>\n",
              "    </tr>\n",
              "    <tr>\n",
              "      <th>ASIANPAINT</th>\n",
              "      <td>27.579246</td>\n",
              "    </tr>\n",
              "    <tr>\n",
              "      <th>MARUTI</th>\n",
              "      <td>27.565096</td>\n",
              "    </tr>\n",
              "    <tr>\n",
              "      <th>HCLTECH</th>\n",
              "      <td>21.691159</td>\n",
              "    </tr>\n",
              "  </tbody>\n",
              "</table>\n",
              "</div><br><label><b>dtype:</b> float64</label>"
            ]
          },
          "metadata": {},
          "execution_count": 59
        }
      ]
    },
    {
      "cell_type": "markdown",
      "source": [
        "The analysis show top 10 stocks with highest return over the years\n",
        "\n",
        "From the analyis >> SHREECEM and TITAN gives the best annual return respectively at 53% and 48%"
      ],
      "metadata": {
        "id": "LO18rf7vqv0T"
      }
    },
    {
      "cell_type": "code",
      "source": [],
      "metadata": {
        "id": "FaDE_DkGMk09"
      },
      "execution_count": null,
      "outputs": []
    },
    {
      "cell_type": "markdown",
      "source": [
        "Now analyzing the stocks based on Volatility\n",
        "\n",
        "We will find daily level volatility first and then multiply by 252(number of working days in a year when stock are traded) to calculate annual volatility"
      ],
      "metadata": {
        "id": "Z3c-ddYJrUrF"
      }
    },
    {
      "cell_type": "code",
      "source": [
        "\n",
        "asset_volatility = close4000.pct_change().dropna().std()\n",
        "annual_volatility = asset_volatility*np.sqrt(252)*100"
      ],
      "metadata": {
        "colab": {
          "base_uri": "https://localhost:8080/"
        },
        "id": "ZXQJ65qK1E96",
        "outputId": "e5c86c0d-7208-40c0-a342-2679d0ad0c74"
      },
      "execution_count": null,
      "outputs": [
        {
          "output_type": "stream",
          "name": "stderr",
          "text": [
            "<ipython-input-65-32af78230070>:2: FutureWarning: The default fill_method='pad' in DataFrame.pct_change is deprecated and will be removed in a future version. Either fill in any non-leading NA values prior to calling pct_change or specify 'fill_method=None' to not fill NA values.\n",
            "  asset_volatility = close4000.pct_change().dropna().std()\n"
          ]
        }
      ]
    },
    {
      "cell_type": "markdown",
      "source": [
        "Finding the stocks with least Volatility"
      ],
      "metadata": {
        "id": "CkJt9Vnyrd6m"
      }
    },
    {
      "cell_type": "code",
      "source": [
        "bottom10vol =  annual_volatility.sort_values().head(10)\n",
        "bottom10vol"
      ],
      "metadata": {
        "colab": {
          "base_uri": "https://localhost:8080/",
          "height": 428
        },
        "id": "oAZBdZ_x1E6j",
        "outputId": "9f5af199-62e4-4c6e-d154-e150f347cbf0"
      },
      "execution_count": null,
      "outputs": [
        {
          "output_type": "execute_result",
          "data": {
            "text/plain": [
              "Symbol\n",
              "NTPC          30.192440\n",
              "DRREDDY       32.321354\n",
              "ULTRACEMCO    33.149342\n",
              "CIPLA         33.153924\n",
              "MARUTI        33.179561\n",
              "SHREECEM      34.725669\n",
              "BRITANNIA     35.448388\n",
              "ASIANPAINT    35.471583\n",
              "TCS           37.869679\n",
              "HDFCBANK      38.006959\n",
              "dtype: float64"
            ],
            "text/html": [
              "<div>\n",
              "<style scoped>\n",
              "    .dataframe tbody tr th:only-of-type {\n",
              "        vertical-align: middle;\n",
              "    }\n",
              "\n",
              "    .dataframe tbody tr th {\n",
              "        vertical-align: top;\n",
              "    }\n",
              "\n",
              "    .dataframe thead th {\n",
              "        text-align: right;\n",
              "    }\n",
              "</style>\n",
              "<table border=\"1\" class=\"dataframe\">\n",
              "  <thead>\n",
              "    <tr style=\"text-align: right;\">\n",
              "      <th></th>\n",
              "      <th>0</th>\n",
              "    </tr>\n",
              "    <tr>\n",
              "      <th>Symbol</th>\n",
              "      <th></th>\n",
              "    </tr>\n",
              "  </thead>\n",
              "  <tbody>\n",
              "    <tr>\n",
              "      <th>NTPC</th>\n",
              "      <td>30.192440</td>\n",
              "    </tr>\n",
              "    <tr>\n",
              "      <th>DRREDDY</th>\n",
              "      <td>32.321354</td>\n",
              "    </tr>\n",
              "    <tr>\n",
              "      <th>ULTRACEMCO</th>\n",
              "      <td>33.149342</td>\n",
              "    </tr>\n",
              "    <tr>\n",
              "      <th>CIPLA</th>\n",
              "      <td>33.153924</td>\n",
              "    </tr>\n",
              "    <tr>\n",
              "      <th>MARUTI</th>\n",
              "      <td>33.179561</td>\n",
              "    </tr>\n",
              "    <tr>\n",
              "      <th>SHREECEM</th>\n",
              "      <td>34.725669</td>\n",
              "    </tr>\n",
              "    <tr>\n",
              "      <th>BRITANNIA</th>\n",
              "      <td>35.448388</td>\n",
              "    </tr>\n",
              "    <tr>\n",
              "      <th>ASIANPAINT</th>\n",
              "      <td>35.471583</td>\n",
              "    </tr>\n",
              "    <tr>\n",
              "      <th>TCS</th>\n",
              "      <td>37.869679</td>\n",
              "    </tr>\n",
              "    <tr>\n",
              "      <th>HDFCBANK</th>\n",
              "      <td>38.006959</td>\n",
              "    </tr>\n",
              "  </tbody>\n",
              "</table>\n",
              "</div><br><label><b>dtype:</b> float64</label>"
            ]
          },
          "metadata": {},
          "execution_count": 67
        }
      ]
    },
    {
      "cell_type": "markdown",
      "source": [
        "The analysis show top 10 stocks with lowest risk(volatility)\n",
        "\n",
        "From the analysis : NTPC and DRREDDY are the stocks with lowest volatility with annual volatility of 30% and 32% respectively"
      ],
      "metadata": {
        "id": "IkefV9yerv5U"
      }
    },
    {
      "cell_type": "code",
      "source": [],
      "metadata": {
        "id": "RSUWAbiGPMxv"
      },
      "execution_count": null,
      "outputs": []
    },
    {
      "cell_type": "markdown",
      "source": [
        "Strategy to pick stocks for Portfolio\n",
        "\n",
        "A person or entity might have different risk apetite and one might choose stocks/trades based on this requirement\n",
        "\n",
        "We will follow a numerical approach to find the Return to Risk ratio for the investment and try to maximize the ratio"
      ],
      "metadata": {
        "id": "D_Lu-V5LPa3s"
      }
    },
    {
      "cell_type": "markdown",
      "source": [
        "Here we pick all the Stcoks which are common to both the lists obtained from Top 10 stocks by Return and Top 10 stocks by Volatility >>\n",
        "\n",
        "SHREECEM, ULTRACEMCO, MARUTI, ASIANPAINT\n",
        "\n",
        "\n",
        "**We will create a portfolio consisting of 6 stocks**\n",
        "\n",
        "We pick one stock from Top 10 stocks by Return : TITAN (48%)\n",
        "\n",
        "We pick one stock from Top 10 stocks by Volatility > DRREDDY (32%)\n",
        "\n",
        "\n",
        "\n",
        "The portfolio now contains 6 Stcoks :\n",
        "\n",
        "SHREECEM\n",
        "\n",
        "ULTRACEMCO\n",
        "\n",
        "MARUTI\n",
        "\n",
        "ASIANPAINT\n",
        "\n",
        "TITAN\n",
        "\n",
        "DRREDDY"
      ],
      "metadata": {
        "id": "RfJ0jo6B2Rlp"
      }
    },
    {
      "cell_type": "code",
      "source": [
        "nifty6 = close4000[['SHREECEM','ULTRACEMCO','MARUTI','ASIANPAINT','TITAN','DRREDDY']]"
      ],
      "metadata": {
        "id": "sN8FOJic1Ep0"
      },
      "execution_count": null,
      "outputs": []
    },
    {
      "cell_type": "markdown",
      "source": [
        "Now that we have figured out the stocks to invest, we need to find out how much amount to invest in which stocks. Here we will use MPT or Modern Portfolio Theory to find the optimal Return to Risk ratio\n",
        "\n",
        "Creating some lists to store the Weights(% of investment), Return and Volatility that will be generated while running the MPT\n",
        "\n",
        "Number of Asset = Number of stocks\n",
        "\n",
        "Number of Loop = Number of times we want to randomly assign weights and calculate the return and risk of the portfolio"
      ],
      "metadata": {
        "id": "WkfT-9f5uvlI"
      }
    },
    {
      "cell_type": "code",
      "source": [
        "pf_ret = []\n",
        "pf_vol = []\n",
        "pf_weight = []\n",
        "num_asset = len(nifty6.columns)\n",
        "num_loop = 5000"
      ],
      "metadata": {
        "id": "gRaAOiJY1Ema"
      },
      "execution_count": null,
      "outputs": []
    },
    {
      "cell_type": "markdown",
      "source": [
        "Computing individual return for the selected stocks"
      ],
      "metadata": {
        "id": "ukpr0v0rtrsd"
      }
    },
    {
      "cell_type": "code",
      "source": [
        "ind_ret = nifty6.resample('Y').last().pct_change().mean()*100"
      ],
      "metadata": {
        "colab": {
          "base_uri": "https://localhost:8080/"
        },
        "id": "Tk52TidA1Eic",
        "outputId": "1314e6f3-853b-460e-b378-fdcdb0ff6728"
      },
      "execution_count": null,
      "outputs": [
        {
          "output_type": "stream",
          "name": "stderr",
          "text": [
            "<ipython-input-92-0a4754ae56cf>:1: FutureWarning: 'Y' is deprecated and will be removed in a future version, please use 'YE' instead.\n",
            "  ind_ret = nifty6.resample('Y').last().pct_change().mean()*100\n"
          ]
        }
      ]
    },
    {
      "cell_type": "code",
      "source": [
        "ind_ret"
      ],
      "metadata": {
        "colab": {
          "base_uri": "https://localhost:8080/",
          "height": 303
        },
        "id": "GcXmf7c21Ee_",
        "outputId": "38e6f26a-e315-4304-d0d2-e1679a8bb8f0"
      },
      "execution_count": null,
      "outputs": [
        {
          "output_type": "execute_result",
          "data": {
            "text/plain": [
              "Symbol\n",
              "SHREECEM      57.363279\n",
              "ULTRACEMCO    28.473541\n",
              "MARUTI        27.317462\n",
              "ASIANPAINT    23.101327\n",
              "TITAN         47.726268\n",
              "DRREDDY       13.253383\n",
              "dtype: float64"
            ],
            "text/html": [
              "<div>\n",
              "<style scoped>\n",
              "    .dataframe tbody tr th:only-of-type {\n",
              "        vertical-align: middle;\n",
              "    }\n",
              "\n",
              "    .dataframe tbody tr th {\n",
              "        vertical-align: top;\n",
              "    }\n",
              "\n",
              "    .dataframe thead th {\n",
              "        text-align: right;\n",
              "    }\n",
              "</style>\n",
              "<table border=\"1\" class=\"dataframe\">\n",
              "  <thead>\n",
              "    <tr style=\"text-align: right;\">\n",
              "      <th></th>\n",
              "      <th>0</th>\n",
              "    </tr>\n",
              "    <tr>\n",
              "      <th>Symbol</th>\n",
              "      <th></th>\n",
              "    </tr>\n",
              "  </thead>\n",
              "  <tbody>\n",
              "    <tr>\n",
              "      <th>SHREECEM</th>\n",
              "      <td>57.363279</td>\n",
              "    </tr>\n",
              "    <tr>\n",
              "      <th>ULTRACEMCO</th>\n",
              "      <td>28.473541</td>\n",
              "    </tr>\n",
              "    <tr>\n",
              "      <th>MARUTI</th>\n",
              "      <td>27.317462</td>\n",
              "    </tr>\n",
              "    <tr>\n",
              "      <th>ASIANPAINT</th>\n",
              "      <td>23.101327</td>\n",
              "    </tr>\n",
              "    <tr>\n",
              "      <th>TITAN</th>\n",
              "      <td>47.726268</td>\n",
              "    </tr>\n",
              "    <tr>\n",
              "      <th>DRREDDY</th>\n",
              "      <td>13.253383</td>\n",
              "    </tr>\n",
              "  </tbody>\n",
              "</table>\n",
              "</div><br><label><b>dtype:</b> float64</label>"
            ]
          },
          "metadata": {},
          "execution_count": 93
        }
      ]
    },
    {
      "cell_type": "markdown",
      "source": [
        "Computing covariance of the Portfolio"
      ],
      "metadata": {
        "id": "ns_H1-s1t4xl"
      }
    },
    {
      "cell_type": "code",
      "source": [
        "d_return = nifty6.pct_change().dropna()\n",
        "cov1 = d_return.cov()*252"
      ],
      "metadata": {
        "colab": {
          "base_uri": "https://localhost:8080/"
        },
        "id": "3po5ujh21Ebe",
        "outputId": "c4cc1b77-f5c5-4e7e-cde1-367ae98fef1f"
      },
      "execution_count": null,
      "outputs": [
        {
          "output_type": "stream",
          "name": "stderr",
          "text": [
            "<ipython-input-94-b337692daaca>:1: FutureWarning: The default fill_method='pad' in DataFrame.pct_change is deprecated and will be removed in a future version. Either fill in any non-leading NA values prior to calling pct_change or specify 'fill_method=None' to not fill NA values.\n",
            "  d_return = nifty6.pct_change().dropna()\n"
          ]
        }
      ]
    },
    {
      "cell_type": "code",
      "source": [
        "#  lets loop through random combinations of weights and find the respective returns and risks\n",
        "\n",
        "for i in range(num_loop):\n",
        "\n",
        "# normalizing the weights\n",
        "  wgt1 = np.random.random(num_asset)\n",
        "  wgt1 =  wgt1/np.sum(wgt1)\n",
        "  pf_weight.append(wgt1)\n",
        "\n",
        "# Return is dot product of (individual ret, weights )\n",
        "  ret1 = np.dot(wgt1,ind_ret)\n",
        "  pf_ret.append(ret1)\n",
        "\n",
        "#  computing the variance\n",
        "\n",
        "  var1 = cov1.mul(wgt1,axis=0).mul(wgt1,axis=1).sum().sum()\n",
        "  sd1 = np.sqrt(var1)\n",
        "  annual_sd1 = sd1*np.sqrt(252)\n",
        "  pf_vol.append(annual_sd1)"
      ],
      "metadata": {
        "id": "lNYi2C5_4uKv"
      },
      "execution_count": null,
      "outputs": []
    },
    {
      "cell_type": "code",
      "source": [
        "#  now creating dict of return, vloatility\n",
        "wgt_compare_data1 = {'Returns':pf_ret,'Volatility':pf_vol}\n",
        "\n",
        "for counter, symbol in enumerate(nifty6.columns.tolist()):\n",
        "  wgt_compare_data1[symbol+' weight'] = [w[counter] for w in pf_weight]\n"
      ],
      "metadata": {
        "id": "q5wwo-Yg1EYQ"
      },
      "execution_count": null,
      "outputs": []
    },
    {
      "cell_type": "code",
      "source": [
        "wgt_compare_data1 = pd.DataFrame(wgt_compare_data1)\n",
        "wgt_compare_data1"
      ],
      "metadata": {
        "colab": {
          "base_uri": "https://localhost:8080/",
          "height": 423
        },
        "id": "s9M9uQmy1EVY",
        "outputId": "ca80d684-fb0e-41c1-dd51-4e6258f24927"
      },
      "execution_count": null,
      "outputs": [
        {
          "output_type": "execute_result",
          "data": {
            "text/plain": [
              "        Returns  Volatility  SHREECEM weight  ULTRACEMCO weight  \\\n",
              "0     35.896611    3.798158         0.167551           0.218160   \n",
              "1     30.088811    3.668372         0.016096           0.225050   \n",
              "2     34.523871    3.657756         0.164514           0.037984   \n",
              "3     28.512154    3.376313         0.170074           0.001853   \n",
              "4     31.147469    3.528210         0.165742           0.267303   \n",
              "...         ...         ...              ...                ...   \n",
              "4995  32.368195    3.965723         0.025414           0.286332   \n",
              "4996  35.161855    3.514138         0.226144           0.222179   \n",
              "4997  34.718457    3.541707         0.233331           0.304897   \n",
              "4998  33.001468    3.387104         0.196089           0.156519   \n",
              "4999  31.499526    3.794899         0.038678           0.136762   \n",
              "\n",
              "      MARUTI weight  ASIANPAINT weight  TITAN weight  DRREDDY weight  \n",
              "0          0.220376           0.027543      0.248355        0.118015  \n",
              "1          0.185617           0.239355      0.224305        0.109576  \n",
              "2          0.190908           0.262388      0.236903        0.107303  \n",
              "3          0.118247           0.244351      0.106148        0.359326  \n",
              "4          0.302008           0.082816      0.042115        0.140017  \n",
              "...             ...                ...           ...             ...  \n",
              "4995       0.013110           0.211724      0.329718        0.133701  \n",
              "4996       0.163031           0.111926      0.149583        0.127137  \n",
              "4997       0.032285           0.138692      0.136699        0.154097  \n",
              "4998       0.148278           0.152465      0.148798        0.197851  \n",
              "4999       0.181551           0.138516      0.305778        0.198714  \n",
              "\n",
              "[5000 rows x 8 columns]"
            ],
            "text/html": [
              "\n",
              "  <div id=\"df-5a0eedf1-cfe6-44b5-a601-2dfb74e364ae\" class=\"colab-df-container\">\n",
              "    <div>\n",
              "<style scoped>\n",
              "    .dataframe tbody tr th:only-of-type {\n",
              "        vertical-align: middle;\n",
              "    }\n",
              "\n",
              "    .dataframe tbody tr th {\n",
              "        vertical-align: top;\n",
              "    }\n",
              "\n",
              "    .dataframe thead th {\n",
              "        text-align: right;\n",
              "    }\n",
              "</style>\n",
              "<table border=\"1\" class=\"dataframe\">\n",
              "  <thead>\n",
              "    <tr style=\"text-align: right;\">\n",
              "      <th></th>\n",
              "      <th>Returns</th>\n",
              "      <th>Volatility</th>\n",
              "      <th>SHREECEM weight</th>\n",
              "      <th>ULTRACEMCO weight</th>\n",
              "      <th>MARUTI weight</th>\n",
              "      <th>ASIANPAINT weight</th>\n",
              "      <th>TITAN weight</th>\n",
              "      <th>DRREDDY weight</th>\n",
              "    </tr>\n",
              "  </thead>\n",
              "  <tbody>\n",
              "    <tr>\n",
              "      <th>0</th>\n",
              "      <td>35.896611</td>\n",
              "      <td>3.798158</td>\n",
              "      <td>0.167551</td>\n",
              "      <td>0.218160</td>\n",
              "      <td>0.220376</td>\n",
              "      <td>0.027543</td>\n",
              "      <td>0.248355</td>\n",
              "      <td>0.118015</td>\n",
              "    </tr>\n",
              "    <tr>\n",
              "      <th>1</th>\n",
              "      <td>30.088811</td>\n",
              "      <td>3.668372</td>\n",
              "      <td>0.016096</td>\n",
              "      <td>0.225050</td>\n",
              "      <td>0.185617</td>\n",
              "      <td>0.239355</td>\n",
              "      <td>0.224305</td>\n",
              "      <td>0.109576</td>\n",
              "    </tr>\n",
              "    <tr>\n",
              "      <th>2</th>\n",
              "      <td>34.523871</td>\n",
              "      <td>3.657756</td>\n",
              "      <td>0.164514</td>\n",
              "      <td>0.037984</td>\n",
              "      <td>0.190908</td>\n",
              "      <td>0.262388</td>\n",
              "      <td>0.236903</td>\n",
              "      <td>0.107303</td>\n",
              "    </tr>\n",
              "    <tr>\n",
              "      <th>3</th>\n",
              "      <td>28.512154</td>\n",
              "      <td>3.376313</td>\n",
              "      <td>0.170074</td>\n",
              "      <td>0.001853</td>\n",
              "      <td>0.118247</td>\n",
              "      <td>0.244351</td>\n",
              "      <td>0.106148</td>\n",
              "      <td>0.359326</td>\n",
              "    </tr>\n",
              "    <tr>\n",
              "      <th>4</th>\n",
              "      <td>31.147469</td>\n",
              "      <td>3.528210</td>\n",
              "      <td>0.165742</td>\n",
              "      <td>0.267303</td>\n",
              "      <td>0.302008</td>\n",
              "      <td>0.082816</td>\n",
              "      <td>0.042115</td>\n",
              "      <td>0.140017</td>\n",
              "    </tr>\n",
              "    <tr>\n",
              "      <th>...</th>\n",
              "      <td>...</td>\n",
              "      <td>...</td>\n",
              "      <td>...</td>\n",
              "      <td>...</td>\n",
              "      <td>...</td>\n",
              "      <td>...</td>\n",
              "      <td>...</td>\n",
              "      <td>...</td>\n",
              "    </tr>\n",
              "    <tr>\n",
              "      <th>4995</th>\n",
              "      <td>32.368195</td>\n",
              "      <td>3.965723</td>\n",
              "      <td>0.025414</td>\n",
              "      <td>0.286332</td>\n",
              "      <td>0.013110</td>\n",
              "      <td>0.211724</td>\n",
              "      <td>0.329718</td>\n",
              "      <td>0.133701</td>\n",
              "    </tr>\n",
              "    <tr>\n",
              "      <th>4996</th>\n",
              "      <td>35.161855</td>\n",
              "      <td>3.514138</td>\n",
              "      <td>0.226144</td>\n",
              "      <td>0.222179</td>\n",
              "      <td>0.163031</td>\n",
              "      <td>0.111926</td>\n",
              "      <td>0.149583</td>\n",
              "      <td>0.127137</td>\n",
              "    </tr>\n",
              "    <tr>\n",
              "      <th>4997</th>\n",
              "      <td>34.718457</td>\n",
              "      <td>3.541707</td>\n",
              "      <td>0.233331</td>\n",
              "      <td>0.304897</td>\n",
              "      <td>0.032285</td>\n",
              "      <td>0.138692</td>\n",
              "      <td>0.136699</td>\n",
              "      <td>0.154097</td>\n",
              "    </tr>\n",
              "    <tr>\n",
              "      <th>4998</th>\n",
              "      <td>33.001468</td>\n",
              "      <td>3.387104</td>\n",
              "      <td>0.196089</td>\n",
              "      <td>0.156519</td>\n",
              "      <td>0.148278</td>\n",
              "      <td>0.152465</td>\n",
              "      <td>0.148798</td>\n",
              "      <td>0.197851</td>\n",
              "    </tr>\n",
              "    <tr>\n",
              "      <th>4999</th>\n",
              "      <td>31.499526</td>\n",
              "      <td>3.794899</td>\n",
              "      <td>0.038678</td>\n",
              "      <td>0.136762</td>\n",
              "      <td>0.181551</td>\n",
              "      <td>0.138516</td>\n",
              "      <td>0.305778</td>\n",
              "      <td>0.198714</td>\n",
              "    </tr>\n",
              "  </tbody>\n",
              "</table>\n",
              "<p>5000 rows × 8 columns</p>\n",
              "</div>\n",
              "    <div class=\"colab-df-buttons\">\n",
              "\n",
              "  <div class=\"colab-df-container\">\n",
              "    <button class=\"colab-df-convert\" onclick=\"convertToInteractive('df-5a0eedf1-cfe6-44b5-a601-2dfb74e364ae')\"\n",
              "            title=\"Convert this dataframe to an interactive table.\"\n",
              "            style=\"display:none;\">\n",
              "\n",
              "  <svg xmlns=\"http://www.w3.org/2000/svg\" height=\"24px\" viewBox=\"0 -960 960 960\">\n",
              "    <path d=\"M120-120v-720h720v720H120Zm60-500h600v-160H180v160Zm220 220h160v-160H400v160Zm0 220h160v-160H400v160ZM180-400h160v-160H180v160Zm440 0h160v-160H620v160ZM180-180h160v-160H180v160Zm440 0h160v-160H620v160Z\"/>\n",
              "  </svg>\n",
              "    </button>\n",
              "\n",
              "  <style>\n",
              "    .colab-df-container {\n",
              "      display:flex;\n",
              "      gap: 12px;\n",
              "    }\n",
              "\n",
              "    .colab-df-convert {\n",
              "      background-color: #E8F0FE;\n",
              "      border: none;\n",
              "      border-radius: 50%;\n",
              "      cursor: pointer;\n",
              "      display: none;\n",
              "      fill: #1967D2;\n",
              "      height: 32px;\n",
              "      padding: 0 0 0 0;\n",
              "      width: 32px;\n",
              "    }\n",
              "\n",
              "    .colab-df-convert:hover {\n",
              "      background-color: #E2EBFA;\n",
              "      box-shadow: 0px 1px 2px rgba(60, 64, 67, 0.3), 0px 1px 3px 1px rgba(60, 64, 67, 0.15);\n",
              "      fill: #174EA6;\n",
              "    }\n",
              "\n",
              "    .colab-df-buttons div {\n",
              "      margin-bottom: 4px;\n",
              "    }\n",
              "\n",
              "    [theme=dark] .colab-df-convert {\n",
              "      background-color: #3B4455;\n",
              "      fill: #D2E3FC;\n",
              "    }\n",
              "\n",
              "    [theme=dark] .colab-df-convert:hover {\n",
              "      background-color: #434B5C;\n",
              "      box-shadow: 0px 1px 3px 1px rgba(0, 0, 0, 0.15);\n",
              "      filter: drop-shadow(0px 1px 2px rgba(0, 0, 0, 0.3));\n",
              "      fill: #FFFFFF;\n",
              "    }\n",
              "  </style>\n",
              "\n",
              "    <script>\n",
              "      const buttonEl =\n",
              "        document.querySelector('#df-5a0eedf1-cfe6-44b5-a601-2dfb74e364ae button.colab-df-convert');\n",
              "      buttonEl.style.display =\n",
              "        google.colab.kernel.accessAllowed ? 'block' : 'none';\n",
              "\n",
              "      async function convertToInteractive(key) {\n",
              "        const element = document.querySelector('#df-5a0eedf1-cfe6-44b5-a601-2dfb74e364ae');\n",
              "        const dataTable =\n",
              "          await google.colab.kernel.invokeFunction('convertToInteractive',\n",
              "                                                    [key], {});\n",
              "        if (!dataTable) return;\n",
              "\n",
              "        const docLinkHtml = 'Like what you see? Visit the ' +\n",
              "          '<a target=\"_blank\" href=https://colab.research.google.com/notebooks/data_table.ipynb>data table notebook</a>'\n",
              "          + ' to learn more about interactive tables.';\n",
              "        element.innerHTML = '';\n",
              "        dataTable['output_type'] = 'display_data';\n",
              "        await google.colab.output.renderOutput(dataTable, element);\n",
              "        const docLink = document.createElement('div');\n",
              "        docLink.innerHTML = docLinkHtml;\n",
              "        element.appendChild(docLink);\n",
              "      }\n",
              "    </script>\n",
              "  </div>\n",
              "\n",
              "\n",
              "<div id=\"df-9e3c5178-4cf2-4574-9df5-7b3cea155bc1\">\n",
              "  <button class=\"colab-df-quickchart\" onclick=\"quickchart('df-9e3c5178-4cf2-4574-9df5-7b3cea155bc1')\"\n",
              "            title=\"Suggest charts\"\n",
              "            style=\"display:none;\">\n",
              "\n",
              "<svg xmlns=\"http://www.w3.org/2000/svg\" height=\"24px\"viewBox=\"0 0 24 24\"\n",
              "     width=\"24px\">\n",
              "    <g>\n",
              "        <path d=\"M19 3H5c-1.1 0-2 .9-2 2v14c0 1.1.9 2 2 2h14c1.1 0 2-.9 2-2V5c0-1.1-.9-2-2-2zM9 17H7v-7h2v7zm4 0h-2V7h2v10zm4 0h-2v-4h2v4z\"/>\n",
              "    </g>\n",
              "</svg>\n",
              "  </button>\n",
              "\n",
              "<style>\n",
              "  .colab-df-quickchart {\n",
              "      --bg-color: #E8F0FE;\n",
              "      --fill-color: #1967D2;\n",
              "      --hover-bg-color: #E2EBFA;\n",
              "      --hover-fill-color: #174EA6;\n",
              "      --disabled-fill-color: #AAA;\n",
              "      --disabled-bg-color: #DDD;\n",
              "  }\n",
              "\n",
              "  [theme=dark] .colab-df-quickchart {\n",
              "      --bg-color: #3B4455;\n",
              "      --fill-color: #D2E3FC;\n",
              "      --hover-bg-color: #434B5C;\n",
              "      --hover-fill-color: #FFFFFF;\n",
              "      --disabled-bg-color: #3B4455;\n",
              "      --disabled-fill-color: #666;\n",
              "  }\n",
              "\n",
              "  .colab-df-quickchart {\n",
              "    background-color: var(--bg-color);\n",
              "    border: none;\n",
              "    border-radius: 50%;\n",
              "    cursor: pointer;\n",
              "    display: none;\n",
              "    fill: var(--fill-color);\n",
              "    height: 32px;\n",
              "    padding: 0;\n",
              "    width: 32px;\n",
              "  }\n",
              "\n",
              "  .colab-df-quickchart:hover {\n",
              "    background-color: var(--hover-bg-color);\n",
              "    box-shadow: 0 1px 2px rgba(60, 64, 67, 0.3), 0 1px 3px 1px rgba(60, 64, 67, 0.15);\n",
              "    fill: var(--button-hover-fill-color);\n",
              "  }\n",
              "\n",
              "  .colab-df-quickchart-complete:disabled,\n",
              "  .colab-df-quickchart-complete:disabled:hover {\n",
              "    background-color: var(--disabled-bg-color);\n",
              "    fill: var(--disabled-fill-color);\n",
              "    box-shadow: none;\n",
              "  }\n",
              "\n",
              "  .colab-df-spinner {\n",
              "    border: 2px solid var(--fill-color);\n",
              "    border-color: transparent;\n",
              "    border-bottom-color: var(--fill-color);\n",
              "    animation:\n",
              "      spin 1s steps(1) infinite;\n",
              "  }\n",
              "\n",
              "  @keyframes spin {\n",
              "    0% {\n",
              "      border-color: transparent;\n",
              "      border-bottom-color: var(--fill-color);\n",
              "      border-left-color: var(--fill-color);\n",
              "    }\n",
              "    20% {\n",
              "      border-color: transparent;\n",
              "      border-left-color: var(--fill-color);\n",
              "      border-top-color: var(--fill-color);\n",
              "    }\n",
              "    30% {\n",
              "      border-color: transparent;\n",
              "      border-left-color: var(--fill-color);\n",
              "      border-top-color: var(--fill-color);\n",
              "      border-right-color: var(--fill-color);\n",
              "    }\n",
              "    40% {\n",
              "      border-color: transparent;\n",
              "      border-right-color: var(--fill-color);\n",
              "      border-top-color: var(--fill-color);\n",
              "    }\n",
              "    60% {\n",
              "      border-color: transparent;\n",
              "      border-right-color: var(--fill-color);\n",
              "    }\n",
              "    80% {\n",
              "      border-color: transparent;\n",
              "      border-right-color: var(--fill-color);\n",
              "      border-bottom-color: var(--fill-color);\n",
              "    }\n",
              "    90% {\n",
              "      border-color: transparent;\n",
              "      border-bottom-color: var(--fill-color);\n",
              "    }\n",
              "  }\n",
              "</style>\n",
              "\n",
              "  <script>\n",
              "    async function quickchart(key) {\n",
              "      const quickchartButtonEl =\n",
              "        document.querySelector('#' + key + ' button');\n",
              "      quickchartButtonEl.disabled = true;  // To prevent multiple clicks.\n",
              "      quickchartButtonEl.classList.add('colab-df-spinner');\n",
              "      try {\n",
              "        const charts = await google.colab.kernel.invokeFunction(\n",
              "            'suggestCharts', [key], {});\n",
              "      } catch (error) {\n",
              "        console.error('Error during call to suggestCharts:', error);\n",
              "      }\n",
              "      quickchartButtonEl.classList.remove('colab-df-spinner');\n",
              "      quickchartButtonEl.classList.add('colab-df-quickchart-complete');\n",
              "    }\n",
              "    (() => {\n",
              "      let quickchartButtonEl =\n",
              "        document.querySelector('#df-9e3c5178-4cf2-4574-9df5-7b3cea155bc1 button');\n",
              "      quickchartButtonEl.style.display =\n",
              "        google.colab.kernel.accessAllowed ? 'block' : 'none';\n",
              "    })();\n",
              "  </script>\n",
              "</div>\n",
              "\n",
              "  <div id=\"id_57b7aca0-ae63-4480-8580-d0ee9736195e\">\n",
              "    <style>\n",
              "      .colab-df-generate {\n",
              "        background-color: #E8F0FE;\n",
              "        border: none;\n",
              "        border-radius: 50%;\n",
              "        cursor: pointer;\n",
              "        display: none;\n",
              "        fill: #1967D2;\n",
              "        height: 32px;\n",
              "        padding: 0 0 0 0;\n",
              "        width: 32px;\n",
              "      }\n",
              "\n",
              "      .colab-df-generate:hover {\n",
              "        background-color: #E2EBFA;\n",
              "        box-shadow: 0px 1px 2px rgba(60, 64, 67, 0.3), 0px 1px 3px 1px rgba(60, 64, 67, 0.15);\n",
              "        fill: #174EA6;\n",
              "      }\n",
              "\n",
              "      [theme=dark] .colab-df-generate {\n",
              "        background-color: #3B4455;\n",
              "        fill: #D2E3FC;\n",
              "      }\n",
              "\n",
              "      [theme=dark] .colab-df-generate:hover {\n",
              "        background-color: #434B5C;\n",
              "        box-shadow: 0px 1px 3px 1px rgba(0, 0, 0, 0.15);\n",
              "        filter: drop-shadow(0px 1px 2px rgba(0, 0, 0, 0.3));\n",
              "        fill: #FFFFFF;\n",
              "      }\n",
              "    </style>\n",
              "    <button class=\"colab-df-generate\" onclick=\"generateWithVariable('wgt_compare_data1')\"\n",
              "            title=\"Generate code using this dataframe.\"\n",
              "            style=\"display:none;\">\n",
              "\n",
              "  <svg xmlns=\"http://www.w3.org/2000/svg\" height=\"24px\"viewBox=\"0 0 24 24\"\n",
              "       width=\"24px\">\n",
              "    <path d=\"M7,19H8.4L18.45,9,17,7.55,7,17.6ZM5,21V16.75L18.45,3.32a2,2,0,0,1,2.83,0l1.4,1.43a1.91,1.91,0,0,1,.58,1.4,1.91,1.91,0,0,1-.58,1.4L9.25,21ZM18.45,9,17,7.55Zm-12,3A5.31,5.31,0,0,0,4.9,8.1,5.31,5.31,0,0,0,1,6.5,5.31,5.31,0,0,0,4.9,4.9,5.31,5.31,0,0,0,6.5,1,5.31,5.31,0,0,0,8.1,4.9,5.31,5.31,0,0,0,12,6.5,5.46,5.46,0,0,0,6.5,12Z\"/>\n",
              "  </svg>\n",
              "    </button>\n",
              "    <script>\n",
              "      (() => {\n",
              "      const buttonEl =\n",
              "        document.querySelector('#id_57b7aca0-ae63-4480-8580-d0ee9736195e button.colab-df-generate');\n",
              "      buttonEl.style.display =\n",
              "        google.colab.kernel.accessAllowed ? 'block' : 'none';\n",
              "\n",
              "      buttonEl.onclick = () => {\n",
              "        google.colab.notebook.generateWithVariable('wgt_compare_data1');\n",
              "      }\n",
              "      })();\n",
              "    </script>\n",
              "  </div>\n",
              "\n",
              "    </div>\n",
              "  </div>\n"
            ],
            "application/vnd.google.colaboratory.intrinsic+json": {
              "type": "dataframe",
              "variable_name": "wgt_compare_data1",
              "summary": "{\n  \"name\": \"wgt_compare_data1\",\n  \"rows\": 5000,\n  \"fields\": [\n    {\n      \"column\": \"Returns\",\n      \"properties\": {\n        \"dtype\": \"number\",\n        \"std\": 3.8283827581446706,\n        \"min\": 20.185690372123997,\n        \"max\": 47.68528120799648,\n        \"num_unique_values\": 5000,\n        \"samples\": [\n          28.66455052116415,\n          31.24136660389953,\n          32.26161949647586\n        ],\n        \"semantic_type\": \"\",\n        \"description\": \"\"\n      }\n    },\n    {\n      \"column\": \"Volatility\",\n      \"properties\": {\n        \"dtype\": \"number\",\n        \"std\": 0.21971136989176585,\n        \"min\": 3.281133947295516,\n        \"max\": 4.86261197662302,\n        \"num_unique_values\": 5000,\n        \"samples\": [\n          3.446874050958793,\n          3.4636475667595956,\n          3.879133822119437\n        ],\n        \"semantic_type\": \"\",\n        \"description\": \"\"\n      }\n    },\n    {\n      \"column\": \"SHREECEM weight\",\n      \"properties\": {\n        \"dtype\": \"number\",\n        \"std\": 0.09488643502565003,\n        \"min\": 3.6846961961469485e-05,\n        \"max\": 0.6456902519489273,\n        \"num_unique_values\": 5000,\n        \"samples\": [\n          0.046210978322606434,\n          0.10552979961140328,\n          0.03998637649377186\n        ],\n        \"semantic_type\": \"\",\n        \"description\": \"\"\n      }\n    },\n    {\n      \"column\": \"ULTRACEMCO weight\",\n      \"properties\": {\n        \"dtype\": \"number\",\n        \"std\": 0.09589297971508103,\n        \"min\": 3.0688944373881948e-06,\n        \"max\": 0.5440401373777797,\n        \"num_unique_values\": 5000,\n        \"samples\": [\n          0.21267786025617816,\n          0.17377593712900366,\n          0.24354031118282837\n        ],\n        \"semantic_type\": \"\",\n        \"description\": \"\"\n      }\n    },\n    {\n      \"column\": \"MARUTI weight\",\n      \"properties\": {\n        \"dtype\": \"number\",\n        \"std\": 0.09473063383890334,\n        \"min\": 3.620774975702153e-05,\n        \"max\": 0.6616252896497385,\n        \"num_unique_values\": 5000,\n        \"samples\": [\n          0.1492529985821127,\n          0.15234788377346506,\n          0.21374322969948806\n        ],\n        \"semantic_type\": \"\",\n        \"description\": \"\"\n      }\n    },\n    {\n      \"column\": \"ASIANPAINT weight\",\n      \"properties\": {\n        \"dtype\": \"number\",\n        \"std\": 0.09298326737643794,\n        \"min\": 6.978012740501242e-05,\n        \"max\": 0.6271034604538501,\n        \"num_unique_values\": 5000,\n        \"samples\": [\n          0.20128086181444005,\n          0.18163712602766127,\n          0.05048363239075923\n        ],\n        \"semantic_type\": \"\",\n        \"description\": \"\"\n      }\n    },\n    {\n      \"column\": \"TITAN weight\",\n      \"properties\": {\n        \"dtype\": \"number\",\n        \"std\": 0.0953945210625051,\n        \"min\": 0.00012813202482410361,\n        \"max\": 0.5271715104815173,\n        \"num_unique_values\": 5000,\n        \"samples\": [\n          0.17563099188917877,\n          0.19600312347558632,\n          0.29108263065184686\n        ],\n        \"semantic_type\": \"\",\n        \"description\": \"\"\n      }\n    },\n    {\n      \"column\": \"DRREDDY weight\",\n      \"properties\": {\n        \"dtype\": \"number\",\n        \"std\": 0.09607180830631501,\n        \"min\": 3.745246902813655e-05,\n        \"max\": 0.5253066133007573,\n        \"num_unique_values\": 5000,\n        \"samples\": [\n          0.21494630913548393,\n          0.19070612998288042,\n          0.1611638195813056\n        ],\n        \"semantic_type\": \"\",\n        \"description\": \"\"\n      }\n    }\n  ]\n}"
            }
          },
          "metadata": {},
          "execution_count": 97
        }
      ]
    },
    {
      "cell_type": "markdown",
      "source": [
        "Plotting efficient frontier : Graphical visualization of the risk and return values obtained over the iteration"
      ],
      "metadata": {
        "id": "00vtNEnzvtIQ"
      }
    },
    {
      "cell_type": "code",
      "source": [
        "\n",
        "wgt_compare_data1.plot.scatter(x='Volatility',y='Returns',marker='o',s=15,alpha=0.5, figsize=(8,5))\n",
        "plt.xlabel('Volatility')\n",
        "plt.ylabel('Returns')\n",
        "plt.title('Efficient Frontier')\n",
        "plt.show()"
      ],
      "metadata": {
        "colab": {
          "base_uri": "https://localhost:8080/",
          "height": 487
        },
        "id": "iGgwCyZT1ESE",
        "outputId": "517a71d9-eb6d-43d5-893d-a9522c4c03a2"
      },
      "execution_count": null,
      "outputs": [
        {
          "output_type": "display_data",
          "data": {
            "text/plain": [
              "<Figure size 800x500 with 1 Axes>"
            ],
            "image/png": "[encoded data removed]"
          },
          "metadata": {}
        }
      ]
    },
    {
      "cell_type": "markdown",
      "source": [
        "Minimum Volatility Portfolio >\n",
        "\n",
        "Selecting optimal combination based on Minimum Volatility of the Portfolio"
      ],
      "metadata": {
        "id": "NY5ObtmZwEkx"
      }
    },
    {
      "cell_type": "code",
      "source": [
        "min_vol_port1 = wgt_compare_data1.iloc[wgt_compare_data1['Volatility'].idxmin()]\n",
        "min_vol_port1"
      ],
      "metadata": {
        "colab": {
          "base_uri": "https://localhost:8080/",
          "height": 334
        },
        "id": "ZiABA4kq1EPL",
        "outputId": "1759885c-6a45-42c1-db88-906c9ef84194"
      },
      "execution_count": null,
      "outputs": [
        {
          "output_type": "execute_result",
          "data": {
            "text/plain": [
              "Returns              27.416797\n",
              "Volatility            3.281134\n",
              "SHREECEM weight       0.138908\n",
              "ULTRACEMCO weight     0.109141\n",
              "MARUTI weight         0.170773\n",
              "ASIANPAINT weight     0.227184\n",
              "TITAN weight          0.050358\n",
              "DRREDDY weight        0.303635\n",
              "Name: 1622, dtype: float64"
            ],
            "text/html": [
              "<div>\n",
              "<style scoped>\n",
              "    .dataframe tbody tr th:only-of-type {\n",
              "        vertical-align: middle;\n",
              "    }\n",
              "\n",
              "    .dataframe tbody tr th {\n",
              "        vertical-align: top;\n",
              "    }\n",
              "\n",
              "    .dataframe thead th {\n",
              "        text-align: right;\n",
              "    }\n",
              "</style>\n",
              "<table border=\"1\" class=\"dataframe\">\n",
              "  <thead>\n",
              "    <tr style=\"text-align: right;\">\n",
              "      <th></th>\n",
              "      <th>1622</th>\n",
              "    </tr>\n",
              "  </thead>\n",
              "  <tbody>\n",
              "    <tr>\n",
              "      <th>Returns</th>\n",
              "      <td>27.416797</td>\n",
              "    </tr>\n",
              "    <tr>\n",
              "      <th>Volatility</th>\n",
              "      <td>3.281134</td>\n",
              "    </tr>\n",
              "    <tr>\n",
              "      <th>SHREECEM weight</th>\n",
              "      <td>0.138908</td>\n",
              "    </tr>\n",
              "    <tr>\n",
              "      <th>ULTRACEMCO weight</th>\n",
              "      <td>0.109141</td>\n",
              "    </tr>\n",
              "    <tr>\n",
              "      <th>MARUTI weight</th>\n",
              "      <td>0.170773</td>\n",
              "    </tr>\n",
              "    <tr>\n",
              "      <th>ASIANPAINT weight</th>\n",
              "      <td>0.227184</td>\n",
              "    </tr>\n",
              "    <tr>\n",
              "      <th>TITAN weight</th>\n",
              "      <td>0.050358</td>\n",
              "    </tr>\n",
              "    <tr>\n",
              "      <th>DRREDDY weight</th>\n",
              "      <td>0.303635</td>\n",
              "    </tr>\n",
              "  </tbody>\n",
              "</table>\n",
              "</div><br><label><b>dtype:</b> float64</label>"
            ]
          },
          "metadata": {},
          "execution_count": 100
        }
      ]
    },
    {
      "cell_type": "markdown",
      "source": [
        "Minimum Volatility Portfolio :\n",
        "\n",
        "ASIANPAINT -\t22.7%\n",
        "\n",
        "DRREDDY - 30.3%\n",
        "\n",
        "MARUTI - 17%\n",
        "\n",
        "TITAN - 5%\n",
        "\n",
        "SHREECEM - 14%\n",
        "\n",
        "ULTRACEMCO - 11%"
      ],
      "metadata": {
        "id": "vnNR1X6exvqm"
      }
    },
    {
      "cell_type": "code",
      "source": [],
      "metadata": {
        "id": "AnejV_tyX4bL"
      },
      "execution_count": null,
      "outputs": []
    },
    {
      "cell_type": "markdown",
      "source": [
        "Highest Sharpe Ratio Portfolio >\n",
        "\n",
        "Selecting optimal combination based on Maximum Return to Risk ratio ( Taking into account a risk factor)"
      ],
      "metadata": {
        "id": "k83eSxuEwcI4"
      }
    },
    {
      "cell_type": "code",
      "source": [
        "# risk factor = rf\n",
        "rf =0.01\n",
        "optimal_sharpe1 = wgt_compare_data1.iloc[((wgt_compare_data1['Returns']-rf)/wgt_compare_data1['Volatility']).idxmax()]\n",
        "optimal_sharpe1"
      ],
      "metadata": {
        "colab": {
          "base_uri": "https://localhost:8080/",
          "height": 334
        },
        "id": "4j4B3FxI1EML",
        "outputId": "3ff826c9-fcf4-4c1e-f758-4d58f91ce1ca"
      },
      "execution_count": null,
      "outputs": [
        {
          "output_type": "execute_result",
          "data": {
            "text/plain": [
              "Returns              47.685281\n",
              "Volatility            4.249361\n",
              "SHREECEM weight       0.645690\n",
              "ULTRACEMCO weight     0.070428\n",
              "MARUTI weight         0.042563\n",
              "ASIANPAINT weight     0.095250\n",
              "TITAN weight          0.096946\n",
              "DRREDDY weight        0.049123\n",
              "Name: 2985, dtype: float64"
            ],
            "text/html": [
              "<div>\n",
              "<style scoped>\n",
              "    .dataframe tbody tr th:only-of-type {\n",
              "        vertical-align: middle;\n",
              "    }\n",
              "\n",
              "    .dataframe tbody tr th {\n",
              "        vertical-align: top;\n",
              "    }\n",
              "\n",
              "    .dataframe thead th {\n",
              "        text-align: right;\n",
              "    }\n",
              "</style>\n",
              "<table border=\"1\" class=\"dataframe\">\n",
              "  <thead>\n",
              "    <tr style=\"text-align: right;\">\n",
              "      <th></th>\n",
              "      <th>2985</th>\n",
              "    </tr>\n",
              "  </thead>\n",
              "  <tbody>\n",
              "    <tr>\n",
              "      <th>Returns</th>\n",
              "      <td>47.685281</td>\n",
              "    </tr>\n",
              "    <tr>\n",
              "      <th>Volatility</th>\n",
              "      <td>4.249361</td>\n",
              "    </tr>\n",
              "    <tr>\n",
              "      <th>SHREECEM weight</th>\n",
              "      <td>0.645690</td>\n",
              "    </tr>\n",
              "    <tr>\n",
              "      <th>ULTRACEMCO weight</th>\n",
              "      <td>0.070428</td>\n",
              "    </tr>\n",
              "    <tr>\n",
              "      <th>MARUTI weight</th>\n",
              "      <td>0.042563</td>\n",
              "    </tr>\n",
              "    <tr>\n",
              "      <th>ASIANPAINT weight</th>\n",
              "      <td>0.095250</td>\n",
              "    </tr>\n",
              "    <tr>\n",
              "      <th>TITAN weight</th>\n",
              "      <td>0.096946</td>\n",
              "    </tr>\n",
              "    <tr>\n",
              "      <th>DRREDDY weight</th>\n",
              "      <td>0.049123</td>\n",
              "    </tr>\n",
              "  </tbody>\n",
              "</table>\n",
              "</div><br><label><b>dtype:</b> float64</label>"
            ]
          },
          "metadata": {},
          "execution_count": 101
        }
      ]
    },
    {
      "cell_type": "markdown",
      "source": [
        "Highest Sharpe Ratio Portfolio :\n",
        "\n",
        "SHREECEM - 64.6%\n",
        "\n",
        "ASIANPAINT - 9.5%\n",
        "\n",
        "TITAN - 9.5%\n",
        "\n",
        "ULTRACEMCO - 7%\n",
        "\n",
        "DRREDDY - 5%\n",
        "\n",
        "MARUTI - 4.2%"
      ],
      "metadata": {
        "id": "FXRp086AyLVh"
      }
    },
    {
      "cell_type": "code",
      "source": [],
      "metadata": {
        "id": "M1DfpSFfyYA1"
      },
      "execution_count": null,
      "outputs": []
    },
    {
      "cell_type": "markdown",
      "source": [
        "Finally visualize these optimal points on the Efficient Frontier plot"
      ],
      "metadata": {
        "id": "yR2a0o_tw1AX"
      }
    },
    {
      "cell_type": "code",
      "source": [
        "plt.scatter(wgt_compare_data1.Volatility,wgt_compare_data1.Returns,marker='o',s=15,alpha=0.5, color= 'green')\n",
        "plt.scatter(min_vol_port1.iloc[1],min_vol_port1.iloc[0],marker='*',color='red',s=150)\n",
        "plt.scatter(optimal_sharpe1.iloc[1],optimal_sharpe1.iloc[0],marker='*',color='blue',s=150)\n",
        "plt.xlabel('Volatility')\n",
        "plt.ylabel('Returns')\n",
        "plt.title('Efficient Frontier')\n",
        "plt.show()"
      ],
      "metadata": {
        "colab": {
          "base_uri": "https://localhost:8080/",
          "height": 472
        },
        "id": "Em0m4bQh1ECa",
        "outputId": "8d58ba5c-14db-4884-89ae-9e7f6324b01f"
      },
      "execution_count": null,
      "outputs": [
        {
          "output_type": "display_data",
          "data": {
            "text/plain": [
              "<Figure size 640x480 with 1 Axes>"
            ],
            "image/png": "[encoded data removed]"
          },
          "metadata": {}
        }
      ]
    },
    {
      "cell_type": "code",
      "source": [],
      "metadata": {
        "id": "lvK7nJ0-1D_o"
      },
      "execution_count": null,
      "outputs": []
    },
    {
      "cell_type": "code",
      "source": [],
      "metadata": {
        "id": "9Rw58ocS1D85"
      },
      "execution_count": null,
      "outputs": []
    },
    {
      "cell_type": "code",
      "source": [],
      "metadata": {
        "id": "M3xRgfmj1D6M"
      },
      "execution_count": null,
      "outputs": []
    },
    {
      "cell_type": "code",
      "source": [],
      "metadata": {
        "id": "GP7L-0sy1D3R"
      },
      "execution_count": null,
      "outputs": []
    }
  ]
}